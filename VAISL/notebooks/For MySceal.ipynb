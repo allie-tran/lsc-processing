{
 "cells": [
  {
   "cell_type": "code",
   "execution_count": 3,
   "id": "welsh-multiple",
   "metadata": {},
   "outputs": [],
   "source": [
    "import bamboolib as bam\n",
    "from tqdm.notebook import tqdm\n",
    "from collections import defaultdict\n",
    "import pandas as pd\n",
    "import multiprocess as mp\n",
    "\n",
    "import numpy as np\n",
    "tqdm.pandas()"
   ]
  },
  {
   "cell_type": "markdown",
   "id": "historical-latin",
   "metadata": {
    "tags": []
   },
   "source": [
    "# Read files"
   ]
  },
  {
   "cell_type": "code",
   "execution_count": 2,
   "id": "instant-gasoline",
   "metadata": {
    "code_folding": []
   },
   "outputs": [],
   "source": [
    "gps = pd.read_csv(r'files/cleaned_gps.csv', sep=',', decimal='.')\n",
    "minute_id_to_index = {minute_id:i for (i, minute_id) in enumerate(gps['minute_id'].values.tolist())}"
   ]
  },
  {
   "cell_type": "code",
   "execution_count": 3,
   "id": "057fce2b-9fc5-429a-b76f-3ce4ac8a8bcd",
   "metadata": {},
   "outputs": [],
   "source": [
    "# Split images into different rows:\n",
    "gps[\"ImageID\"]=gps[\"ImageID\"].str.split(\",\")\n",
    "gps = gps.explode(\"ImageID\").reset_index()\n",
    "gps[\"ImageID\"] = gps[\"ImageID\"].str.replace(r'(\\[|\\]|\\'|\\s)', '', regex=True)\n",
    "gps.loc[gps['ImageID'] == \"\", 'ImageID'] = np.nan\n",
    "gps = gps.loc[gps['ImageID'].notna()]"
   ]
  },
  {
   "cell_type": "code",
   "execution_count": 4,
   "id": "73c81637-77d1-4150-b5ae-6282fe55ad7c",
   "metadata": {},
   "outputs": [],
   "source": [
    "# Merge into one file with the visual concepts\n",
    "visual = pd.read_csv(r'../../original_data/lsc22_visual_concepts.csv', sep=',', decimal='.')\n",
    "# start from here\n",
    "both = pd.merge(\n",
    "    visual,\n",
    "    gps,\n",
    "    how=\"right\",\n",
    "    on='ImageID',\n",
    ")\n",
    "\n",
    "all_minute_ids = both['minute_id'].values.tolist()\n",
    "all_image_ids = both['ImageID'].values.tolist()\n",
    "image_id_to_index = {image_id: i for (i, image_id) in enumerate(all_image_ids)}\n",
    "minute_id_to_images = defaultdict(lambda:[])\n",
    "for minute_id, image_id in zip(all_minute_ids, all_image_ids):\n",
    "    minute_id_to_images[minute_id].append(image_id)"
   ]
  },
  {
   "cell_type": "markdown",
   "id": "7e47306a-8043-47ae-9228-0aa5f2ca838d",
   "metadata": {
    "tags": []
   },
   "source": [
    "# VAISL results"
   ]
  },
  {
   "cell_type": "code",
   "execution_count": 6,
   "id": "921ee024-00b7-4a77-bee2-0a174d52dd7d",
   "metadata": {},
   "outputs": [],
   "source": [
    "stops = pd.read_csv(r'/home/tlduyen/LSC22/process/VAISL/files/semantic_stops.csv', sep=',', decimal='.')"
   ]
  },
  {
   "cell_type": "code",
   "execution_count": 7,
   "id": "indonesian-belle",
   "metadata": {
    "tags": []
   },
   "outputs": [],
   "source": [
    "import json\n",
    "# cluster_to_name = [(metadata.index.values[:782].tolist(), \"HOME\", 53.38998, -6.1457602, True)]\n",
    "cluster_to_name = []\n",
    "all_images = set()\n",
    "\n",
    "for index, row in stops.iterrows():\n",
    "    try:\n",
    "        if row[\"first\"] == \"nan\":\n",
    "            continue\n",
    "#         minute_ids = json.loads(row[\"minute_id\"].replace(\"'\", '\"'))\n",
    "#         cluster_to_name.append((minute_ids, row[\"checkin\"], row[\"lat\"], row[\"lon\"], True))\n",
    "        start = image_id_to_index[row[\"first\"].strip('[], ').split('.')[0] + \".jpg\"]\n",
    "        end = image_id_to_index[row[\"last\"].strip('[] ').split('.')[0] + \".jpg\"]\n",
    "        assert start <= end, \"wrong order\"\n",
    "        image_ids = all_image_ids[start : end+1]\n",
    "        if \"movement\" in row:\n",
    "            cluster_to_name.append((image_ids, row[\"checkin\"] if row[\"stop\"] else row[\"movement\"], row[\"lat\"], row[\"lon\"], row[\"stop\"]))\n",
    "        else:\n",
    "            cluster_to_name.append((image_ids, row[\"checkin\"], row[\"lat\"], row[\"lon\"], row[\"stop\"]))\n",
    "    except Exception as e:\n",
    "        print(row)\n",
    "        raise(e)"
   ]
  },
  {
   "cell_type": "markdown",
   "id": "ebbec438-4d16-4212-812e-70078a5ed694",
   "metadata": {
    "jp-MarkdownHeadingCollapsed": true,
    "tags": []
   },
   "source": [
    "# Ground Truth"
   ]
  },
  {
   "cell_type": "code",
   "execution_count": 133,
   "id": "ca4fb621-0381-4dc9-b3a4-edccbe785cf3",
   "metadata": {},
   "outputs": [],
   "source": [
    "df = pd.read_csv(r'/home/tlduyen/LSC22/process/VAISL/files/segment_df.csv', sep=',', decimal='.')"
   ]
  },
  {
   "cell_type": "code",
   "execution_count": 134,
   "id": "e137e140-ea29-4e17-8835-c3e5c26247f9",
   "metadata": {},
   "outputs": [],
   "source": [
    "cluster_to_name = []\n",
    "all_images = set()\n",
    "\n",
    "for index, row in df.iterrows():\n",
    "    try:\n",
    "        if row[\"first\"] == \"nan\":\n",
    "            continue\n",
    "#         minute_ids = json.loads(row[\"minute_id\"].replace(\"'\", '\"'))\n",
    "#         cluster_to_name.append((minute_ids, row[\"checkin\"], row[\"lat\"], row[\"lon\"], True))\n",
    "        start = image_id_to_index[row[\"first\"].strip('[], ').split('.')[0] + \".jpg\"]\n",
    "        end = image_id_to_index[row[\"last\"].strip('[] ').split('.')[0] + \".jpg\"]\n",
    "        assert start <= end, \"wrong order\"\n",
    "        image_ids = all_image_ids[start : end+1] \n",
    "        cluster_to_name.append((image_ids, row[\"checkin\"], row[\"lat\"], row[\"lon\"], True))\n",
    "    except Exception as e:\n",
    "        print(row)\n",
    "        raise(e)"
   ]
  },
  {
   "cell_type": "markdown",
   "id": "polyphonic-tongue",
   "metadata": {
    "tags": []
   },
   "source": [
    "# Assign results"
   ]
  },
  {
   "cell_type": "code",
   "execution_count": 8,
   "id": "variable-freight",
   "metadata": {
    "tags": []
   },
   "outputs": [
    {
     "data": {
      "application/vnd.jupyter.widget-view+json": {
       "model_id": "1939f4ae0c824dd6b23fd6a2169aa798",
       "version_major": 2,
       "version_minor": 0
      },
      "text/plain": [
       "  0%|          | 0/9206 [00:00<?, ?it/s]"
      ]
     },
     "metadata": {},
     "output_type": "display_data"
    },
    {
     "data": {
      "text/plain": [
       "723329"
      ]
     },
     "execution_count": 8,
     "metadata": {},
     "output_type": "execute_result"
    }
   ],
   "source": [
    "both = both.set_index(\"ImageID\")\n",
    "\n",
    "def classify(params):\n",
    "    index, cluster = params\n",
    "    image_ids, name, centre_lat, centre_lon, is_stop = cluster\n",
    "    results = []\n",
    "    for image_id in image_ids:\n",
    "        if not is_stop or not np.isnan(both.loc[image_id, \"latitude\"]):\n",
    "            centre_lat = both.loc[image_id, \"latitude\"]\n",
    "            centre_lon = both.loc[image_id, \"longitude\"] \n",
    "#         results.append([image_id, name] + [df.iloc[index][label] for label in [\"found\", \"best_name_google\", \"best_label_google\",\n",
    "#                          \"best_prob_google\", \"best_place_id_google\", \"cluster_label\"]] + [centre_lat, centre_lon])\n",
    "        results.append([image_id, name, centre_lat, centre_lon, is_stop])\n",
    "    return results\n",
    "            \n",
    "with mp.Pool(mp.cpu_count()) as pool:\n",
    "    results = list(tqdm(pool.imap_unordered(classify, enumerate(cluster_to_name)), total=len(cluster_to_name)))\n",
    "results = [r for res in results for r in res]\n",
    "len(results)"
   ]
  },
  {
   "cell_type": "code",
   "execution_count": 9,
   "id": "fitted-butler",
   "metadata": {},
   "outputs": [
    {
     "data": {
      "application/vnd.jupyter.widget-view+json": {
       "model_id": "83713ba2d88c41ac87548a0b5dd4f5bc",
       "version_major": 2,
       "version_minor": 0
      },
      "text/plain": [
       "  0%|          | 0/4 [00:00<?, ?it/s]"
      ]
     },
     "metadata": {},
     "output_type": "display_data"
    }
   ],
   "source": [
    "image_ids_all, new_names, lats, lons, is_stops = zip(*results)\n",
    "both[\"new_lat\"] = both[\"latitude\"]\n",
    "both[\"new_long\"] = both[\"longitude\"]\n",
    "both[\"new_name\"] = [None] * len(both)\n",
    "both[\"stop\"] = [\"ERR\"] * len(both)\n",
    "def get_column(params):\n",
    "    label, values = params\n",
    "    row_to_name = {image_id_to_index[image_id]: name for image_id, name in zip(image_ids_all, values)}\n",
    "    column = [row_to_name[i] if i in row_to_name else both.iloc[i][label] for i in range(len(both))]\n",
    "    return column\n",
    "    \n",
    "with mp.Pool(mp.cpu_count()) as pool:\n",
    "    rr =list(tqdm(pool.imap(get_column, [(\"new_name\", new_names),\n",
    "                                           (\"new_lat\", lats),\n",
    "                                           (\"new_long\", lons),\n",
    "                                           (\"stop\", is_stops)]), total=4))"
   ]
  },
  {
   "cell_type": "code",
   "execution_count": 10,
   "id": "81bdf041-8bd1-41bd-96f8-6ee8f35b0e9c",
   "metadata": {},
   "outputs": [],
   "source": [
    "rr[0] = [\"HOME\" for i in range(240)] + rr[0][240:]\n",
    "rr[1] = [53.38998 for i in range(240)] + rr[1][240:]\n",
    "rr[2] = [-6.1457602 for i in range(240)] + rr[2][240:]\n",
    "rr[3] = [True for i in range(240)] + rr[3][240:]\n",
    "both[\"new_name\"] = rr[0]\n",
    "both[\"new_lat\"] = rr[1]\n",
    "both[\"new_long\"] = rr[2]\n",
    "both[\"stop\"] = rr[3]"
   ]
  },
  {
   "cell_type": "code",
   "execution_count": 11,
   "id": "welcome-charlotte",
   "metadata": {},
   "outputs": [],
   "source": [
    "both[\"new_lat\"] = both[\"new_lat\"].ffill()\n",
    "both[\"new_long\"] = both[\"new_long\"].ffill()\n",
    "both = both.reset_index()\n",
    "both[['new_name']] = both[['new_name']].fillna('')"
   ]
  },
  {
   "cell_type": "code",
   "execution_count": 1,
   "id": "cf1a63f5-009e-4442-ab53-c15aaff2baed",
   "metadata": {},
   "outputs": [
    {
     "ename": "NameError",
     "evalue": "name 'pd' is not defined",
     "output_type": "error",
     "traceback": [
      "\u001b[0;31m---------------------------------------------------------------------------\u001b[0m",
      "\u001b[0;31mNameError\u001b[0m                                 Traceback (most recent call last)",
      "Input \u001b[0;32mIn [1]\u001b[0m, in \u001b[0;36m<cell line: 1>\u001b[0;34m()\u001b[0m\n\u001b[0;32m----> 1\u001b[0m stops \u001b[38;5;241m=\u001b[39m \u001b[43mpd\u001b[49m\u001b[38;5;241m.\u001b[39mread_csv(\u001b[38;5;124mr\u001b[39m\u001b[38;5;124m'\u001b[39m\u001b[38;5;124m/home/tlduyen/LSC22/process/VAISL/files/stops.csv\u001b[39m\u001b[38;5;124m'\u001b[39m, sep\u001b[38;5;241m=\u001b[39m\u001b[38;5;124m'\u001b[39m\u001b[38;5;124m,\u001b[39m\u001b[38;5;124m'\u001b[39m, decimal\u001b[38;5;241m=\u001b[39m\u001b[38;5;124m'\u001b[39m\u001b[38;5;124m.\u001b[39m\u001b[38;5;124m'\u001b[39m)\n",
      "\u001b[0;31mNameError\u001b[0m: name 'pd' is not defined"
     ]
    }
   ],
   "source": [
    "stops = pd.read_csv(r'/home/tlduyen/LSC22/process/VAISL/files/stops.csv', sep=',', decimal='.')"
   ]
  },
  {
   "cell_type": "code",
   "execution_count": 27,
   "id": "18c542fa-11fd-4293-86c8-b917a086b468",
   "metadata": {},
   "outputs": [
    {
     "data": {
      "application/vnd.jupyter.widget-view+json": {
       "model_id": "1ec0a3cd03e644b5a438665607b64d06"
      },
      "text/plain": [
       "       Unnamed: 0  index  inside   stop         movement stop_label  \\\n",
       "0               0      0    True   True           Inside       01_0   \n",
       "1               1      1    True   True           Inside     INSIDE   \n",
       "2               2      2    True   True           Inside       01_0   \n",
       "3               3      3    True   True           Inside     INSIDE   \n",
       "4               4      4    True   True           Inside       01_0   \n",
       "...           ...    ...     ...    ...              ...        ...   \n",
       "11449       11449  11449   False   True  Walking Outside       30_0   \n",
       "11450       11450  11450   False  False  Walking Outside        NaN   \n",
       "11451       11451  11451   False   True           Inside       30_0   \n",
       "11452       11452  11452   False  False              Car        NaN   \n",
       "11453       11453  11453   False   True           Inside       30_0   \n",
       "\n",
       "             lat       lon  max_radius  \\\n",
       "0      53.389991 -6.145720    9.810891   \n",
       "1            NaN       NaN   50.000000   \n",
       "2      53.389997 -6.145733    2.476135   \n",
       "3      53.389986 -6.145762   50.000000   \n",
       "4      53.389983 -6.145748    1.081707   \n",
       "...          ...       ...         ...   \n",
       "11449        NaN       NaN   50.000000   \n",
       "11450        NaN       NaN   50.000000   \n",
       "11451  53.389782 -6.145804   50.000000   \n",
       "11452        NaN       NaN   50.000000   \n",
       "11453  53.389964 -6.145794   12.896464   \n",
       "\n",
       "                                                 all_lat  \\\n",
       "0      [53.38999663909091, 53.38999663909091, 53.3900...   \n",
       "1                                                     []   \n",
       "2      [53.389995033333335, 53.389995033333335, 53.38...   \n",
       "3                                           [53.3899863]   \n",
       "4      [53.3899863, 53.3899863, 53.3899863, 53.389982...   \n",
       "...                                                  ...   \n",
       "11449                                                 []   \n",
       "11450                                                 []   \n",
       "11451             [53.38978224424242, 53.38978224424242]   \n",
       "11452                                                 []   \n",
       "11453  [53.38984800848485, 53.38984800848485, 53.3899...   \n",
       "\n",
       "                                                 all_lon  \\\n",
       "0      [-6.145706673636364, -6.145706673636364, -6.14...   \n",
       "1                                                     []   \n",
       "2      [-6.1457182, -6.1457182, -6.1457077, -6.145707...   \n",
       "3                                           [-6.1457622]   \n",
       "4      [-6.1457622, -6.1457614, -6.1457614, -6.145731...   \n",
       "...                                                  ...   \n",
       "11449                                                 []   \n",
       "11450                                                 []   \n",
       "11451           [-6.145803953030303, -6.145803953030303]   \n",
       "11452                                                 []   \n",
       "11453  [-6.145791306060606, -6.145791306060606, -6.14...   \n",
       "\n",
       "                                                  images    duration  \n",
       "0      ['20190101_103717_000.jpg', '20190101_103749_0...   78.966667  \n",
       "1                            ['20190101_115547_000.jpg']    1.000000  \n",
       "2      ['20190101_115619_000.jpg', '20190101_115651_0...   24.483333  \n",
       "3                            ['20190101_122020_000.jpg']    1.000000  \n",
       "4      ['20190101_122052_000.jpg', '20190101_122124_0...    3.666667  \n",
       "...                                                  ...         ...  \n",
       "11449  ['20200630_192734_000.jpg', '20200630_192806_0...    3.133333  \n",
       "11450  ['20200630_193014_000.jpg', '20200630_193046_0...    1.533333  \n",
       "11451  ['20200630_193119_000.jpg', '20200630_193151_0...    7.933333  \n",
       "11452  ['20200630_193849_000.jpg', '20200630_193921_0...    2.600000  \n",
       "11453  ['20200630_194057_000.jpg', '20200630_194129_0...  102.466667  \n",
       "\n",
       "[11454 rows x 13 columns]"
      ]
     },
     "metadata": {},
     "output_type": "display_data"
    }
   ],
   "source": [
    "stops = stops.loc[stops['images'].str.contains('20190208_17', case=False, regex=False, na=False)]\n",
    "stops"
   ]
  },
  {
   "cell_type": "code",
   "execution_count": 16,
   "id": "7a3c94f8-93bb-43ba-955c-99b5fa8c7211",
   "metadata": {},
   "outputs": [
    {
     "data": {
      "application/vnd.jupyter.widget-view+json": {
       "model_id": "fea531e2c70c4550b3bb568c9ef96572",
       "version_major": 2,
       "version_minor": 0
      },
      "text/plain": [
       "  0%|          | 0/9203 [00:00<?, ?it/s]"
      ]
     },
     "metadata": {},
     "output_type": "display_data"
    },
    {
     "data": {
      "application/vnd.jupyter.widget-view+json": {
       "model_id": "d46c5db057fd4a7f8b734aaf3848b9cd",
       "version_major": 2,
       "version_minor": 0
      },
      "text/plain": [
       "  0%|          | 0/6 [00:00<?, ?it/s]"
      ]
     },
     "metadata": {},
     "output_type": "display_data"
    }
   ],
   "source": [
    "from scripts.agg_stops import assign_to_images\n",
    "both = assign_to_images(stops)"
   ]
  },
  {
   "cell_type": "code",
   "execution_count": 8,
   "id": "989e6e05-acac-44ce-a00b-017ed36bcfef",
   "metadata": {},
   "outputs": [],
   "source": [
    "both = pd.read_csv(r'files/final_metadata.csv', sep=',', decimal='.')"
   ]
  },
  {
   "cell_type": "code",
   "execution_count": 9,
   "id": "dc81b11f-e3be-44f9-8908-665d4efd9dca",
   "metadata": {},
   "outputs": [
    {
     "data": {
      "application/vnd.jupyter.widget-view+json": {
       "model_id": "6340f2ae14ae45929b9220f30fe9b202"
      },
      "text/plain": [
       "       Unnamed: 0.1                  ImageID  Unnamed: 0  \\\n",
       "54341         54341  20190208_174030_000.jpg       54341   \n",
       "54342         54342  20190208_174102_000.jpg       54342   \n",
       "54343         54343  20190208_174134_000.jpg       54343   \n",
       "54344         54344  20190208_174206_000.jpg       54344   \n",
       "54345         54345  20190208_174238_000.jpg       54345   \n",
       "54346         54346  20190208_174310_000.jpg       54346   \n",
       "54347         54347  20190208_174342_000.jpg       54347   \n",
       "54348         54348  20190208_174414_000.jpg       54348   \n",
       "54349         54349  20190208_174446_000.jpg       54349   \n",
       "54350         54350  20190208_174611_000.jpg       54350   \n",
       "54351         54351  20190208_174643_000.jpg       54351   \n",
       "54352         54352  20190208_174715_000.jpg       54352   \n",
       "54353         54353  20190208_174747_000.jpg       54353   \n",
       "54354         54354  20190208_174819_000.jpg       54354   \n",
       "54355         54355  20190208_174851_000.jpg       54355   \n",
       "54356         54356  20190208_174923_000.jpg       54356   \n",
       "54357         54357  20190208_174955_000.jpg       54357   \n",
       "\n",
       "                           Tags  OCR                               Caption  \\\n",
       "54341                       NaN  NaN               a close-up of a machine   \n",
       "54342         person,man,indoor  NaN           a man wearing a white shirt   \n",
       "54343  wall,indoor,toilet,light  NaN                   a light on the wall   \n",
       "54344               indoor,wall  NaN            a person sitting in a room   \n",
       "54345               wall,indoor  NaN                  a painting on a wall   \n",
       "54346                      text  NaN                  a painting on a wall   \n",
       "54347                      wall  NaN                  a painting on a wall   \n",
       "54348                     light  NaN                    a wall with lights   \n",
       "54349                      blur  NaN         a close-up of a person's face   \n",
       "54350        wall,indoor,person  NaN                  a painting on a wall   \n",
       "54351               wall,indoor  NaN                  a painting on a wall   \n",
       "54352        person,wall,indoor  NaN         a close up of a person's hand   \n",
       "54353               wall,indoor  NaN                  a painting on a wall   \n",
       "54354               wall,indoor  NaN  a room with a door and a plant in it   \n",
       "54355         indoor,floor,wall  NaN       a bedroom with a bed and a door   \n",
       "54356          text,wall,indoor  NaN                  a painting on a wall   \n",
       "54357          text,wall,indoor  NaN                  a painting on a wall   \n",
       "\n",
       "       CaptionScore movement  movement_prob  inside  ... stop_label  boundary  \\\n",
       "54341      0.465153   Inside       0.964981    True  ...       09_0       NaN   \n",
       "54342      0.444761   Inside       0.816268    True  ...       09_0       NaN   \n",
       "54343      0.443638   Inside       0.992768    True  ...       09_0       NaN   \n",
       "54344      0.387039   Inside       0.987509    True  ...       09_0       NaN   \n",
       "54345      0.467342   Inside       0.992668    True  ...       09_0       NaN   \n",
       "54346      0.458174   Inside       0.988395    True  ...       09_0       NaN   \n",
       "54347      0.444616   Inside       0.967840    True  ...       09_0       NaN   \n",
       "54348      0.339168   Inside       0.996356    True  ...       09_0       NaN   \n",
       "54349      0.487178   Inside       0.722790    True  ...       09_0       NaN   \n",
       "54350      0.513130   Inside       0.977594    True  ...       09_0       NaN   \n",
       "54351      0.535317   Inside       0.985275    True  ...       09_0       NaN   \n",
       "54352      0.455616   Inside       0.989941    True  ...       09_0       NaN   \n",
       "54353      0.549876   Inside       0.987602    True  ...       09_0       NaN   \n",
       "54354      0.419101   Inside       0.986717    True  ...       09_0       NaN   \n",
       "54355      0.389635   Inside       0.990084    True  ...       09_0       NaN   \n",
       "54356      0.558179   Inside       0.992962    True  ...       09_0       NaN   \n",
       "54357      0.566851   Inside       0.995646    True  ...       09_0       NaN   \n",
       "\n",
       "         new_lat    new_long    new_name            categories  parent  \\\n",
       "54341  10.766053  106.702953  The Tresor  Residential Building     NaN   \n",
       "54342  10.766053  106.702953  The Tresor  Residential Building     NaN   \n",
       "54343  10.766053  106.702953  The Tresor  Residential Building     NaN   \n",
       "54344  10.766053  106.702953  The Tresor  Residential Building     NaN   \n",
       "54345  10.766053  106.702953  The Tresor  Residential Building     NaN   \n",
       "54346  10.766053  106.702953  The Tresor  Residential Building     NaN   \n",
       "54347  10.766053  106.702953  The Tresor  Residential Building     NaN   \n",
       "54348  10.766053  106.702953  The Tresor  Residential Building     NaN   \n",
       "54349  10.766053  106.702953  The Tresor  Residential Building     NaN   \n",
       "54350  10.766053  106.702953  The Tresor  Residential Building     NaN   \n",
       "54351  10.766053  106.702953  The Tresor  Residential Building     NaN   \n",
       "54352  10.766053  106.702953  The Tresor  Residential Building     NaN   \n",
       "54353  10.766053  106.702953  The Tresor  Residential Building     NaN   \n",
       "54354  10.766053  106.702953  The Tresor  Residential Building     NaN   \n",
       "54355  10.766053  106.702953  The Tresor  Residential Building     NaN   \n",
       "54356  10.766053  106.702953  The Tresor  Residential Building     NaN   \n",
       "54357  10.766053  106.702953  The Tresor  Residential Building     NaN   \n",
       "\n",
       "                       city  country      new_timezone  \n",
       "54341  Ho Chi Minh, Vietnam  Vietnam  Asia/Ho_Chi_Minh  \n",
       "54342  Ho Chi Minh, Vietnam  Vietnam  Asia/Ho_Chi_Minh  \n",
       "54343  Ho Chi Minh, Vietnam  Vietnam  Asia/Ho_Chi_Minh  \n",
       "54344  Ho Chi Minh, Vietnam  Vietnam  Asia/Ho_Chi_Minh  \n",
       "54345  Ho Chi Minh, Vietnam  Vietnam  Asia/Ho_Chi_Minh  \n",
       "54346  Ho Chi Minh, Vietnam  Vietnam  Asia/Ho_Chi_Minh  \n",
       "54347  Ho Chi Minh, Vietnam  Vietnam  Asia/Ho_Chi_Minh  \n",
       "54348  Ho Chi Minh, Vietnam  Vietnam  Asia/Ho_Chi_Minh  \n",
       "54349  Ho Chi Minh, Vietnam  Vietnam  Asia/Ho_Chi_Minh  \n",
       "54350  Ho Chi Minh, Vietnam  Vietnam  Asia/Ho_Chi_Minh  \n",
       "54351  Ho Chi Minh, Vietnam  Vietnam  Asia/Ho_Chi_Minh  \n",
       "54352  Ho Chi Minh, Vietnam  Vietnam  Asia/Ho_Chi_Minh  \n",
       "54353  Ho Chi Minh, Vietnam  Vietnam  Asia/Ho_Chi_Minh  \n",
       "54354  Ho Chi Minh, Vietnam  Vietnam  Asia/Ho_Chi_Minh  \n",
       "54355  Ho Chi Minh, Vietnam  Vietnam  Asia/Ho_Chi_Minh  \n",
       "54356  Ho Chi Minh, Vietnam  Vietnam  Asia/Ho_Chi_Minh  \n",
       "54357  Ho Chi Minh, Vietnam  Vietnam  Asia/Ho_Chi_Minh  \n",
       "\n",
       "[17 rows x 29 columns]"
      ]
     },
     "metadata": {},
     "output_type": "display_data"
    }
   ],
   "source": [
    "both = both.loc[both['ImageID'].str.contains('20190208_174', case=False, regex=False, na=False)]\n",
    "both"
   ]
  },
  {
   "cell_type": "markdown",
   "id": "mathematical-discrimination",
   "metadata": {
    "tags": []
   },
   "source": [
    "# Get city names"
   ]
  },
  {
   "cell_type": "code",
   "execution_count": 13,
   "id": "registered-emphasis",
   "metadata": {},
   "outputs": [
    {
     "data": {
      "application/vnd.jupyter.widget-view+json": {
       "model_id": "a87a887bf6be4cf0b510902f3ca57119",
       "version_major": 2,
       "version_minor": 0
      },
      "text/plain": [
       "  0%|          | 0/723329 [00:00<?, ?it/s]"
      ]
     },
     "metadata": {},
     "output_type": "display_data"
    },
    {
     "data": {
      "application/vnd.jupyter.widget-view+json": {
       "model_id": "2f3d7a1bca834350972c732aae84d2a8",
       "version_major": 2,
       "version_minor": 0
      },
      "text/plain": [
       "  0%|          | 0/723329 [00:00<?, ?it/s]"
      ]
     },
     "metadata": {},
     "output_type": "display_data"
    }
   ],
   "source": [
    "from scripts.map_apis import *\n",
    "both['city'] = both.progress_apply(lambda x: get_cities(round(x['new_lat'], 3), round(x['new_long'], 3)), axis=1)\n",
    "both['country'] = both.progress_apply(lambda x: get_countries(round(x['new_lat'], 3), round(x['new_long'], 3)), axis=1)"
   ]
  },
  {
   "cell_type": "code",
   "execution_count": 14,
   "id": "c5c97266-7f7c-42bc-8aa1-3cf66b2098ae",
   "metadata": {},
   "outputs": [
    {
     "name": "stderr",
     "output_type": "stream",
     "text": [
      "/home/nmduy/anaconda3/envs/duyen/lib/python3.9/site-packages/tzwhere/tzwhere.py:62: VisibleDeprecationWarning:\n",
      "\n",
      "Creating an ndarray from ragged nested sequences (which is a list-or-tuple of lists-or-tuples-or ndarrays with different lengths or shapes) is deprecated. If you meant to do this, you must specify 'dtype=object' when creating the ndarray.\n",
      "\n",
      "/home/nmduy/anaconda3/envs/duyen/lib/python3.9/site-packages/tzwhere/tzwhere.py:65: VisibleDeprecationWarning:\n",
      "\n",
      "Creating an ndarray from ragged nested sequences (which is a list-or-tuple of lists-or-tuples-or ndarrays with different lengths or shapes) is deprecated. If you meant to do this, you must specify 'dtype=object' when creating the ndarray.\n",
      "\n"
     ]
    },
    {
     "data": {
      "application/vnd.jupyter.widget-view+json": {
       "model_id": "8a46756dc15f4a34bff47beacf79ca78",
       "version_major": 2,
       "version_minor": 0
      },
      "text/plain": [
       "  0%|          | 0/723329 [00:00<?, ?it/s]"
      ]
     },
     "metadata": {},
     "output_type": "display_data"
    }
   ],
   "source": [
    "from tzwhere import tzwhere\n",
    "tz = tzwhere.tzwhere(forceTZ=True)\n",
    "        \n",
    "both[\"new_timezone\"] = both.progress_apply(lambda x: tz.tzNameAt(round(x['new_lat'], 4), \n",
    "                                                                 round(x['new_long'], 4), \n",
    "                                                                 forceTZ=True), axis=1)"
   ]
  },
  {
   "cell_type": "code",
   "execution_count": 15,
   "id": "4f89fd86-f286-4a90-80bc-91ef59b31ea4",
   "metadata": {},
   "outputs": [],
   "source": [
    "both.to_csv('files/final_metadata.csv')"
   ]
  },
  {
   "cell_type": "code",
   "execution_count": 2,
   "id": "9db97a09-f19b-4890-8762-b6aa51569603",
   "metadata": {},
   "outputs": [
    {
     "ename": "ModuleNotFoundError",
     "evalue": "No module named 'gps_utils'",
     "output_type": "error",
     "traceback": [
      "\u001b[0;31m---------------------------------------------------------------------------\u001b[0m",
      "\u001b[0;31mModuleNotFoundError\u001b[0m                       Traceback (most recent call last)",
      "Input \u001b[0;32mIn [2]\u001b[0m, in \u001b[0;36m<cell line: 2>\u001b[0;34m()\u001b[0m\n\u001b[1;32m      1\u001b[0m \u001b[38;5;28;01mfrom\u001b[39;00m \u001b[38;5;21;01mscripts\u001b[39;00m\u001b[38;5;21;01m.\u001b[39;00m\u001b[38;5;21;01mgps_utils\u001b[39;00m \u001b[38;5;28;01mimport\u001b[39;00m \u001b[38;5;241m*\u001b[39m\n\u001b[0;32m----> 2\u001b[0m \u001b[38;5;28;01mimport\u001b[39;00m \u001b[38;5;21;01mscripts\u001b[39;00m\u001b[38;5;21;01m.\u001b[39;00m\u001b[38;5;21;01magg_stops\u001b[39;00m \u001b[38;5;28;01mas\u001b[39;00m \u001b[38;5;21;01magg_stops\u001b[39;00m\n\u001b[1;32m      3\u001b[0m \u001b[38;5;28;01mimport\u001b[39;00m \u001b[38;5;21;01mjson\u001b[39;00m\n\u001b[1;32m      5\u001b[0m \u001b[38;5;66;03m# from alphabet_detector import AlphabetDetector\u001b[39;00m\n\u001b[1;32m      6\u001b[0m \u001b[38;5;66;03m# ad = AlphabetDetector()\u001b[39;00m\n\u001b[1;32m      7\u001b[0m \u001b[38;5;66;03m# ad.only_alphabet_chars(u\"frappé\", \"LATIN\") #True\u001b[39;00m\n\u001b[1;32m      8\u001b[0m \u001b[38;5;66;03m# ad.is_latin(u\"howdy\") #True\u001b[39;00m\n",
      "File \u001b[0;32m~/LSC22/process/VAISL/scripts/agg_stops.py:9\u001b[0m, in \u001b[0;36m<module>\u001b[0;34m\u001b[0m\n\u001b[1;32m      7\u001b[0m tqdm\u001b[38;5;241m.\u001b[39mpandas()\n\u001b[1;32m      8\u001b[0m \u001b[38;5;28;01mfrom\u001b[39;00m \u001b[38;5;21;01mdatetime\u001b[39;00m \u001b[38;5;28;01mimport\u001b[39;00m datetime\n\u001b[0;32m----> 9\u001b[0m \u001b[38;5;28;01mfrom\u001b[39;00m \u001b[38;5;21;01mgps_utils\u001b[39;00m \u001b[38;5;28;01mimport\u001b[39;00m list_all, unpack_str, image_time_duration\n\u001b[1;32m     11\u001b[0m INFO_TO_KEEP \u001b[38;5;241m=\u001b[39m [\u001b[38;5;124m\"\u001b[39m\u001b[38;5;124mcheckin_id\u001b[39m\u001b[38;5;124m\"\u001b[39m, \u001b[38;5;124m\"\u001b[39m\u001b[38;5;124moriginal_name\u001b[39m\u001b[38;5;124m\"\u001b[39m, \u001b[38;5;124m\"\u001b[39m\u001b[38;5;124mcategories\u001b[39m\u001b[38;5;124m\"\u001b[39m, \u001b[38;5;124m\"\u001b[39m\u001b[38;5;124mparent\u001b[39m\u001b[38;5;124m\"\u001b[39m]\n\u001b[1;32m     13\u001b[0m \u001b[38;5;28;01mdef\u001b[39;00m \u001b[38;5;21mimage_to_date\u001b[39m(image_id):\n",
      "\u001b[0;31mModuleNotFoundError\u001b[0m: No module named 'gps_utils'"
     ]
    }
   ],
   "source": []
  },
  {
   "cell_type": "code",
   "execution_count": null,
   "id": "cbb9c749-180f-4d69-8f2e-b8b150b33156",
   "metadata": {},
   "outputs": [],
   "source": []
  }
 ],
 "metadata": {
  "kernelspec": {
   "display_name": "Python 3 (ipykernel)",
   "language": "python",
   "name": "python3"
  },
  "language_info": {
   "codemirror_mode": {
    "name": "ipython",
    "version": 3
   },
   "file_extension": ".py",
   "mimetype": "text/x-python",
   "name": "python",
   "nbconvert_exporter": "python",
   "pygments_lexer": "ipython3",
   "version": "3.9.12"
  },
  "toc": {
   "base_numbering": 1,
   "nav_menu": {},
   "number_sections": true,
   "sideBar": true,
   "skip_h1_title": false,
   "title_cell": "Table of Contents",
   "title_sidebar": "Contents",
   "toc_cell": false,
   "toc_position": {},
   "toc_section_display": true,
   "toc_window_display": false
  },
  "vscode": {
   "interpreter": {
    "hash": "df0893f56f349688326838aaeea0de204df53a132722cbd565e54b24a8fec5f6"
   }
  }
 },
 "nbformat": 4,
 "nbformat_minor": 5
}
