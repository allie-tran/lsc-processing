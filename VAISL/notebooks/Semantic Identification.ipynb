{
 "cells": [
  {
   "cell_type": "code",
   "execution_count": 1,
   "id": "ceramic-accreditation",
   "metadata": {},
   "outputs": [
    {
     "name": "stdout",
     "output_type": "stream",
     "text": [
      "\n"
     ]
    }
   ],
   "source": [
    "from tqdm.notebook import tqdm\n",
    "import bamboolib as bam\n",
    "import pandas as pd\n",
    "tqdm.pandas()\n",
    "from gps_utils import *\n",
    "from map_apis import *\n",
    "from vision_utils import *"
   ]
  },
  {
   "cell_type": "code",
   "execution_count": 2,
   "id": "prompt-trigger",
   "metadata": {},
   "outputs": [],
   "source": [
    "from datetime import datetime, timezone, timedelta\n",
    "# Language libraries\n",
    "from unidecode import unidecode\n",
    "from googletrans import Translator, constants\n",
    "from langdetect import detect\n",
    "import re"
   ]
  },
  {
   "cell_type": "markdown",
   "id": "invalid-result",
   "metadata": {
    "tags": []
   },
   "source": [
    "# Read Files"
   ]
  },
  {
   "cell_type": "code",
   "execution_count": 3,
   "id": "cognitive-cabinet",
   "metadata": {},
   "outputs": [],
   "source": [
    "checkin_file = '../../original_data/checkins.json'\n",
    "stop_file = 'files/test/stops.csv'"
   ]
  },
  {
   "cell_type": "code",
   "execution_count": 35,
   "id": "suburban-kernel",
   "metadata": {},
   "outputs": [],
   "source": [
    "stops = pd.read_csv(stop_file, sep=',', decimal='.')\n",
    "# Leave out stops without images\n",
    "# stops['images'] = stops['images'].astype('string')\n",
    "# stops = stops.loc[~(stops['images'].isin(['[]']))]\n",
    "# stops = stops.loc[~(stops['lat'].isna())]\n",
    "stops = stops.reset_index()\n",
    "\n",
    "EMPTY_STRINGS = [\"\" for i in range(len(stops))]\n",
    "ZEROS = [0 for i in range(len(stops))]\n",
    "FALSES = [False for i in range(len(stops))]\n",
    "\n",
    "stops = stops.assign(checkin=EMPTY_STRINGS,\n",
    "                     original_name=EMPTY_STRINGS,\n",
    "                     in_checkin=FALSES,\n",
    "                     place_id=EMPTY_STRINGS,\n",
    "                     categories=EMPTY_STRINGS,\n",
    "                     prob=ZEROS,\n",
    "                     parent=EMPTY_STRINGS,\n",
    "                     parent_id=EMPTY_STRINGS)\n",
    "                     # movement=EMPTY_STRINGS,\n",
    "                     # movement_prob=ZEROS)"
   ]
  },
  {
   "cell_type": "code",
   "execution_count": 5,
   "id": "surprising-mystery",
   "metadata": {},
   "outputs": [],
   "source": [
    "checkins = json.load(open(checkin_file))\n",
    "named_checkins = [{\n",
    "                   \"name\": checkin[\"venue\"][\"name\"],\n",
    "                   \"place_id\": checkin[\"venue\"][\"id\"],\n",
    "                   \"latitude\": checkin[\"venue\"][\"latitude\"],\n",
    "                   \"longitude\": checkin[\"venue\"][\"longitude\"],\n",
    "                   \"regions\": [checkin[\"venue\"][key] for key in [\"city\", \"state\", \"country\"] if key in checkin[\"venue\"]],\n",
    "                   \"time\": datetime.fromtimestamp(checkin[\"createdAt\"]), #not sure\n",
    "                   \"timeZoneOffset\": checkin[\"timeZoneOffset\"]} for checkin in checkins][::-1]\n",
    "# Filter time\n",
    "named_checkins = [checkin for checkin in named_checkins if checkin[\"time\"].year in [2019, 2020]]\n",
    "NULL_CHECKIN = {\"name\": \"Unknown Place\", \"place_id\": \"No Places Found\", \"categories\": [], \"parent\": \"\", \"parent_id\": \"\"}"
   ]
  },
  {
   "cell_type": "markdown",
   "id": "heard-heading",
   "metadata": {
    "heading_collapsed": true,
    "jp-MarkdownHeadingCollapsed": true,
    "tags": []
   },
   "source": [
    "## Enrich checkins"
   ]
  },
  {
   "cell_type": "code",
   "execution_count": 6,
   "id": "early-instrument",
   "metadata": {
    "hidden": true,
    "tags": []
   },
   "outputs": [
    {
     "data": {
      "application/vnd.jupyter.widget-view+json": {
       "model_id": "7f2bb2a4668746d8b1ce68527f9c87f5",
       "version_major": 2,
       "version_minor": 0
      },
      "text/plain": [
       "  0%|          | 0/2256 [00:00<?, ?it/s]"
      ]
     },
     "metadata": {},
     "output_type": "display_data"
    }
   ],
   "source": [
    "for checkin in tqdm(named_checkins):\n",
    "    categories_res = get_categories(checkin['place_id'])\n",
    "    checkin[\"categories\"] = [cat['name'] for cat in categories_res[\"categories\"]]\n",
    "    if \"description\" in categories_res:\n",
    "        checkin[\"description\"] = categories_res[\"description\"]\n",
    "    else:\n",
    "        checkin[\"description\"] = \"\"\n",
    "    if \"related_places\" in categories_res and \"parent\" in categories_res[\"related_places\"]:\n",
    "        checkin[\"parent\"] = categories_res[\"related_places\"][\"parent\"][\"name\"]\n",
    "        checkin[\"parent_id\"] = categories_res[\"related_places\"][\"parent\"][\"fsq_id\"]\n",
    "    else:\n",
    "        checkin[\"parent\"] = \"\"\n",
    "        checkin[\"parent_id\"] = \"\"\n",
    "    if \"related_places\" in categories_res and \"children\" in categories_res[\"related_places\"]:\n",
    "        checkin[\"children\"] = []\n",
    "        for children in categories_res[\"related_places\"][\"children\"][:20]:\n",
    "            if \"fsq_id\" in children:\n",
    "                children_res = get_categories(children[\"fsq_id\"])\n",
    "                if \"description\" in children_res:\n",
    "                    children[\"description\"] = children_res[\"description\"]\n",
    "                children[\"categories\"] = [cat['name'] for cat in children_res[\"categories\"]]\n",
    "                checkin[\"children\"].append(children)\n",
    "    else:\n",
    "        checkin[\"children\"] = []\n",
    "\n",
    "    photos_res = get_photos(checkin[\"place_id\"])\n",
    "    checkin[\"indoor_photos\"] = [photo[\"prefix\"] + \"original\" + photo[\"suffix\"] for photo in photos_res if 'indoor' in photo[\"classifications\"]]\n",
    "    checkin[\"outdoor_photos\"] = [photo[\"prefix\"] + \"original\" + photo[\"suffix\"] for photo in photos_res if 'outdoor' in photo[\"classifications\"]]    "
   ]
  },
  {
   "cell_type": "markdown",
   "id": "dramatic-carol",
   "metadata": {
    "heading_collapsed": true,
    "jp-MarkdownHeadingCollapsed": true,
    "tags": []
   },
   "source": [
    "## Various checkin functions"
   ]
  },
  {
   "cell_type": "code",
   "execution_count": 7,
   "id": "informed-hawaiian",
   "metadata": {
    "hidden": true
   },
   "outputs": [],
   "source": [
    "# Translating\n",
    "translator = Translator()\n",
    "text_exceptions={\"Adapt Centre @ Dcu\": \"Adapt Centre @ Dcu\",\n",
    "                \"777\": \"777\",\n",
    "                \"Nip@tuck\": \"Nip@tuck\"}\n",
    "def to_english(text, debug=False):\n",
    "    if text:\n",
    "        if text in text_exceptions:\n",
    "            return text_exceptions[text]\n",
    "        try:\n",
    "            lang = detect(text)\n",
    "            if lang != \"en\":\n",
    "                text = translator.translate(text).text\n",
    "            return unidecode(text)\n",
    "        except Exception as e:\n",
    "            if debug:\n",
    "                print(f\"Error translating \\\"{text}\\\"\")\n",
    "                raise(e)\n",
    "            else:\n",
    "                pass\n",
    "    return text"
   ]
  },
  {
   "cell_type": "markdown",
   "id": "boolean-meeting",
   "metadata": {
    "jp-MarkdownHeadingCollapsed": true,
    "tags": []
   },
   "source": [
    "## Assign checkins"
   ]
  },
  {
   "cell_type": "code",
   "execution_count": 8,
   "id": "rough-librarian",
   "metadata": {},
   "outputs": [],
   "source": [
    "def change_airport_parents(possible_checkins, weights, existed_place_ids):\n",
    "    # Change parents for airports:\n",
    "    for checkin in possible_checkins:\n",
    "        if detect_airport(checkin):\n",
    "            categories_res = get_categories(checkin[\"parent_id\"])\n",
    "            categories = [cat['name'] for cat in categories_res[\"categories\"]]\n",
    "            parent = checkin[\"parent\"]\n",
    "            parent_id = checkin[\"parent_id\"]\n",
    "            if parent:\n",
    "                while True:\n",
    "                    if \"related_places\" in categories_res and \"parent\" in categories_res[\"related_places\"]:\n",
    "                        parent = categories_res[\"related_places\"][\"parent\"][\"name\"]\n",
    "                        parent_id = categories_res[\"related_places\"][\"parent\"][\"fsq_id\"]\n",
    "                        categories_res = get_categories(parent_id)\n",
    "                        categories = [cat['name'] for cat in categories_res[\"categories\"]]\n",
    "                    else:\n",
    "                        break\n",
    "                checkin[\"parent\"] = parent\n",
    "                checkin[\"parent_id\"] = parent_id\n",
    "\n",
    "            if parent_id in existed_place_ids:\n",
    "                weights[existed_place_ids.index(parent_id)] += 1\n",
    "    return possible_checkins, weights"
   ]
  },
  {
   "cell_type": "code",
   "execution_count": 9,
   "id": "novel-pharmaceutical",
   "metadata": {
    "tags": []
   },
   "outputs": [],
   "source": [
    "def get_nearby_parents(nearbys, possible_checkins, weights, existed_place_ids):\n",
    "    for i, checkin in enumerate(nearbys):\n",
    "        checkin = parse_checkin(checkin)\n",
    "        if detect_airport(checkin):\n",
    "            categories_res = get_categories(checkin[\"parent_id\"])\n",
    "            categories = [cat['name'] for cat in categories_res[\"categories\"]]\n",
    "            parent = checkin[\"parent\"]\n",
    "            parent_id = checkin[\"parent_id\"]\n",
    "            if parent:\n",
    "                while True:\n",
    "                    if \"related_places\" in categories_res and \"parent\" in categories_res[\"related_places\"]:\n",
    "                        parent = categories_res[\"related_places\"][\"parent\"][\"name\"]\n",
    "                        parent_id = categories_res[\"related_places\"][\"parent\"][\"fsq_id\"]\n",
    "                        categories_res = get_categories(parent_id)\n",
    "                        categories = [cat['name'] for cat in categories_res[\"categories\"]]\n",
    "                    else:\n",
    "                        break\n",
    "                checkin[\"parent\"] = parent\n",
    "                checkin[\"parent_id\"] = parent_id\n",
    "\n",
    "        if checkin[\"place_id\"] not in existed_place_ids:\n",
    "            existed_place_ids.append(checkin[\"place_id\"])\n",
    "            possible_checkins.append(checkin)\n",
    "            weights.append(1) #TODO!\n",
    "        # else:\n",
    "            # weights[existed_place_ids.index(checkin[\"place_id\"])] += 1\n",
    "    \n",
    "    # Add parent to the list \n",
    "    for checkin in possible_checkins:\n",
    "        if checkin[\"parent_id\"] and checkin[\"parent_id\"] not in existed_place_ids:\n",
    "            if checkin[\"parent\"] != checkin[\"name\"]:\n",
    "                categories_res = get_categories(checkin[\"parent_id\"])\n",
    "                new_checkin = {\"name\": checkin[\"parent\"],\n",
    "                               \"place_id\": checkin[\"parent_id\"],\n",
    "                               \"categories\": [cat['name'] for cat in categories_res[\"categories\"]],\n",
    "                               \"parent\": \"\",\n",
    "                               \"parent_id\": \"\"}\n",
    "                if \"description\" in categories_res:\n",
    "                    new_checkin[\"description\"] = categories_res[\"description\"]\n",
    "                if \"related_places\" in categories_res and \"parent\" in categories_res[\"related_places\"]:\n",
    "                    new_checkin[\"parent\"] = categories_res[\"related_places\"][\"parent\"][\"name\"]\n",
    "                    new_checkin[\"parent_id\"] = categories_res[\"related_places\"][\"parent\"][\"fsq_id\"]\n",
    "                existed_place_ids.append(checkin[\"parent_id\"])\n",
    "                possible_checkins.append(new_checkin)\n",
    "                weights.append(1)\n",
    "    return possible_checkins, weights, existed_place_ids"
   ]
  },
  {
   "cell_type": "markdown",
   "id": "ae685c50-7c54-4f95-8281-75fa876ad66f",
   "metadata": {
    "jp-MarkdownHeadingCollapsed": true,
    "tags": []
   },
   "source": [
    "## Fill in rows"
   ]
  },
  {
   "cell_type": "code",
   "execution_count": 10,
   "id": "4dc2b1d1-db76-45c5-a65f-71455c512827",
   "metadata": {},
   "outputs": [],
   "source": [
    "moves = {\"I am sitting on an airplane\": \"Airplane\",\n",
    "         \"I am in a car\": \"Car\",\n",
    "         \"I am in an airport\": \"Inside\",\n",
    "         \"I am walking outside or on the street\": \"Walking Outside\",\n",
    "         \"I am on public transport\": \"Public Transport\",\n",
    "         \"I am inside a building or a house\": \"Inside\"}"
   ]
  },
  {
   "cell_type": "code",
   "execution_count": 11,
   "id": "81448233-5198-4b85-908b-4292c1dc66ef",
   "metadata": {},
   "outputs": [],
   "source": [
    "def detect_airport(checkin):\n",
    "    if \"airport\" in \", \".join(checkin[\"categories\"]).lower() or \"airport\" in checkin[\"name\"].lower():\n",
    "        return True\n",
    "    return \"airport\" in checkin[\"parent\"].lower()"
   ]
  },
  {
   "cell_type": "code",
   "execution_count": 12,
   "id": "5e3d63d2-d9b2-4e57-89d4-22abea7341ba",
   "metadata": {},
   "outputs": [],
   "source": [
    "def find_closest_index(a, x): # to the right only\n",
    "    i = bisect.bisect_left(a, x)\n",
    "    if i >= len(a):\n",
    "        i = len(a) - 1\n",
    "    return i"
   ]
  },
  {
   "cell_type": "code",
   "execution_count": 13,
   "id": "97457c2d-3649-4753-af4c-104643d66f43",
   "metadata": {},
   "outputs": [],
   "source": [
    "checkin_times = [checkin[\"time\"] for checkin in named_checkins]\n",
    "\n",
    "def get_nearby_checkins(start, end, lat=None, lon=None, max_radius=500, time_limit=timedelta(hours=1)):\n",
    "    start_ind = find_closest_index(checkin_times, start)\n",
    "    end_ind = find_closest_index(checkin_times, end + time_limit)\n",
    "    base_checkins, gaps = [], []\n",
    "    for i in range(start_ind, end_ind+1):\n",
    "        checkin = named_checkins[i]\n",
    "        if lat:\n",
    "            if distance(lat, lon, checkin[\"latitude\"], checkin[\"longitude\"]) > max(500, max_radius):\n",
    "                continue\n",
    "        base_checkins.append(checkin)\n",
    "        gaps.append(checkin_times[i] - start)\n",
    "    weights = [1 for i in range(len(base_checkins))]\n",
    "    children_checkins = []\n",
    "    for checkin, gap in zip(base_checkins, gaps):\n",
    "        if not detect_airport(checkin):\n",
    "            for children in checkin[\"children\"]:\n",
    "                children[\"place_id\"] = children[\"fsq_id\"]\n",
    "                children[\"parent\"] = checkin[\"name\"]\n",
    "                children[\"parent_id\"] = checkin[\"place_id\"]\n",
    "                children_checkins.append(children)\n",
    "                weights.append(1)\n",
    "    return base_checkins + children_checkins, weights"
   ]
  },
  {
   "cell_type": "code",
   "execution_count": 14,
   "id": "2c7109df-cd5a-43fa-82d2-115732e4868d",
   "metadata": {},
   "outputs": [],
   "source": [
    "def image_to_date(image_id):\n",
    "    return datetime.strptime(image_id, \"%Y%m%d_%H%M%S_000.jpg\")"
   ]
  },
  {
   "cell_type": "code",
   "execution_count": 15,
   "id": "streaming-hudson",
   "metadata": {
    "code_folding": [],
    "tags": []
   },
   "outputs": [],
   "source": [
    "def find_named_checkins_nearby(images, image_features, stop, lat, lon, max_radius, logging=False):\n",
    "    start = image_to_date(images[0])\n",
    "    end = image_to_date(images[-1])    \n",
    "    if stop:\n",
    "        possible_checkins, weights, existed_place_ids = [], [], []\n",
    "        num_nearby_checkins = 0\n",
    "        \n",
    "        # Use checkins\n",
    "        possible_checkins, weights = get_nearby_checkins(start, end, lat, lon, max_radius)\n",
    "        existed_place_ids = [checkin[\"place_id\"] for checkin in possible_checkins]\n",
    "        num_nearby_checkins = len(possible_checkins)\n",
    "        possible_checkins, weights = change_airport_parents(possible_checkins, weights, existed_place_ids)\n",
    "        \n",
    "        nearbys = get_nearby_places(round(lat, 3), round(lon, 3))[\"results\"]\n",
    "        if logging:\n",
    "            print(images)\n",
    "            print([(checkin[\"name\"], checkin[\"distance\"]) for checkin in nearbys])\n",
    "            print(\"Max radius:\", max_radius)\n",
    "        # Filter nearbys by distance\n",
    "        nearbys = [checkin for checkin in nearbys if checkin[\"distance\"] < max(400, max_radius)]\n",
    "        \n",
    "        if not nearbys:\n",
    "            if logging:\n",
    "                print(images)\n",
    "                print([checkin[\"name\"] for checkin in get_nearby_places(round(lat, 3), round(lon, 3))[\"results\"]])\n",
    "                print(\"Max radius:\", max_radius)\n",
    "        else:\n",
    "            # Get parents for nearbys\n",
    "            if logging:\n",
    "                print(\"Nearbys:\")\n",
    "                print([checkin[\"name\"] for checkin in nearbys])\n",
    "\n",
    "            possible_checkins, weights, existed_place_ids = get_nearby_parents(nearbys, possible_checkins, weights, existed_place_ids)\n",
    "            if logging:\n",
    "                print(\"Expanded nearbys:\")\n",
    "                print([(checkin[\"name\"], checkin[\"parent\"], weight) for checkin, weight in zip(possible_checkins, weights)])\n",
    "\n",
    "            parent_weights = [[i] for i in range(len(weights))]\n",
    "            for i, checkin in enumerate(possible_checkins):\n",
    "                if checkin[\"parent_id\"] in existed_place_ids:\n",
    "                    parent_weights[existed_place_ids.index(checkin[\"parent_id\"])].append(i)\n",
    "\n",
    "            checkin_labels = []\n",
    "            all_embeddings = []\n",
    "            embedding_index = []\n",
    "            filtered_checkins = []\n",
    "\n",
    "            for i, checkin in enumerate(possible_checkins):\n",
    "                name = to_english(re.sub(\"[\\(\\[].*?[\\)\\]]\", \"\", checkin[\"name\"]))\n",
    "                all_label = \"I am in a \" + \", \".join(checkin[\"categories\"]) + \" called \" + name\n",
    "                checkin_labels.append(all_label)\n",
    "                filtered_checkins.append(checkin)\n",
    "                if \"IMG\" in MODES:\n",
    "                    photos_res = get_photos(checkin[\"place_id\"])\n",
    "                    checkin[\"indoor_photos\"] = [photo[\"prefix\"] + \"original\" + photo[\"suffix\"] for photo in photos_res if 'classifications' in photo and 'indoor' in photo[\"classifications\"]]\n",
    "                    checkin[\"outdoor_photos\"] = [photo[\"prefix\"] + \"original\" + photo[\"suffix\"] for photo in photos_res if 'classifications' in photo and 'outdoor' in photo[\"classifications\"]]    \n",
    "\n",
    "                    checkin_embeddings, _, _ = get_embeddings(checkin)\n",
    "                    if checkin_embeddings is not None:\n",
    "                        embedding_index.append(i)\n",
    "                        all_embeddings.append(np.mean(checkin_embeddings, axis=0))\n",
    "\n",
    "            # Text similarity\n",
    "            text_tokens = clip.tokenize(checkin_labels, truncate=True).cuda()\n",
    "            with torch.no_grad():\n",
    "                text_features = model.encode_text(text_tokens).float()\n",
    "                text_features /= text_features.norm(dim=-1, keepdim=True)\n",
    "            mean_similarities = (image_features @ text_features.T).mean(dim=0)\n",
    "\n",
    "            # Image similarity\n",
    "            full_image_similarities = torch.clone(mean_similarities)\n",
    "            if \"IMG\" in MODES:\n",
    "                if all_embeddings:\n",
    "                    checkin_embeddings = torch.tensor(np.stack(all_embeddings)).cuda().float()\n",
    "                    image_similarities = (image_features @ checkin_embeddings.T).mean(dim=0)\n",
    "                    for i, similarity in zip(embedding_index, image_similarities):\n",
    "                        full_image_similarities[i] = (similarity + full_image_similarities[i]) / 2\n",
    "\n",
    "            weighted_similarities = torch.tensor(weights) * full_image_similarities.cpu()\n",
    "            mean_probs, mean_labels = (100 * weighted_similarities).softmax(dim=-1).topk(min(len(checkin_labels), 5))\n",
    "\n",
    "            if logging:\n",
    "                print(\"All checkins:\")\n",
    "                print([(checkin[\"name\"], checkin[\"parent\"]) for checkin in possible_checkins])\n",
    "                print(\"Photos available:\")\n",
    "                print([possible_checkins[i][\"name\"] for i in embedding_index])\n",
    "                print(\"Weighted similarities\")\n",
    "                print([(weights[label], checkin_labels[label], prob.numpy()) for label, prob in zip(mean_labels, mean_probs)])\n",
    "\n",
    "\n",
    "            if \"REL\" not in MODES or mean_probs[0].numpy() > 0.75:\n",
    "                return filtered_checkins[mean_labels[0]], (mean_probs[0]/weights[mean_labels[0]]).numpy(), mean_labels[0].numpy() < num_nearby_checkins\n",
    "            else: # Considering parents\n",
    "                parent_similarities = []\n",
    "                for ids in parent_weights:\n",
    "                    sim = 0\n",
    "                    for i in ids:\n",
    "                        sim += weighted_similarities[i]\n",
    "                    parent_similarities.append(sim)\n",
    "                parent_similarities = torch.tensor(parent_similarities)\n",
    "                mean_probs, mean_labels = parent_similarities.topk(min(len(checkin_labels), 5))\n",
    "\n",
    "                if logging:\n",
    "                    print(\"Considering parents weights\")\n",
    "                    print([(weights[label], checkin_labels[label], prob.numpy()) for label, prob in zip(mean_labels, mean_probs)])\n",
    "                return filtered_checkins[mean_labels[0]], (mean_probs[0]/weights[mean_labels[0]]).numpy(), mean_labels[0].numpy() < num_nearby_checkins\n",
    "    return NULL_CHECKIN, 0, False"
   ]
  },
  {
   "cell_type": "code",
   "execution_count": 16,
   "id": "a09e87ae-f114-4c9f-9923-f4afc8e9ac82",
   "metadata": {
    "tags": []
   },
   "outputs": [],
   "source": [
    "def get_checkin(row, logging=False):\n",
    "    stop = stops.loc[row, \"stop\"]\n",
    "    lat = stops.loc[row, \"lat\"]\n",
    "    lon = stops.loc[row, \"lon\"]\n",
    "    max_radius = stops.loc[row, \"max_radius\"]\n",
    "    images = stops.loc[row, \"images\"]\n",
    "    image_features = None\n",
    "    if isinstance(images, str):\n",
    "        images = json.loads(images.replace(\"'\", '\"'))\n",
    "    image_features = get_stop_embeddings(images)\n",
    "\n",
    "    # Get transport move\n",
    "    if not image_features is None:\n",
    "        image_features = torch.tensor(image_features).cuda().float()\n",
    "#         movement, movement_prob = movement_mode(list(moves.keys()), image_features)\n",
    "#         movement = moves[movement]\n",
    "#         if logging:\n",
    "#             print(\"Movement:\", movement, movement_prob)\n",
    "#         if movement_prob > 0.7 and movement in [\"Inside\", \"Airport\"]:\n",
    "#             stop = True\n",
    "#         elif movement_prob > 0.7:\n",
    "#             stop = False\n",
    "#         elif max_radius < 100 and movement in [\"Inside\", \"Airport\"]: # Low probability\n",
    "#             stop = True\n",
    "\n",
    "#         if logging:\n",
    "#             print(\"Stop:\", stop)\n",
    "\n",
    "#         stops.loc[row, \"stop\"] = stop\n",
    "        if stop:\n",
    "            if not np.isnan(lat):\n",
    "                if distance(lat, lon, 53.38998, -6.1457602) < 100:\n",
    "                    stops.loc[row, \"checkin\"] = \"HOME\"\n",
    "                elif distance(lat, lon, 53.386859863999995, -6.147444621999999) < 100:\n",
    "                    stops.loc[row, \"checkin\"] = \"Charm Hand & Foot Spa\"\n",
    "                # elif movement_prob > 0.7 and movement in [\"Private Home\"]:\n",
    "                #     stops.loc[row, \"checkin\"] = \"Private Home\"\n",
    "                else:\n",
    "                    checkin, prob, in_checkin = find_named_checkins_nearby(images, image_features, stop, lat, lon, max_radius, logging=logging)\n",
    "                    stops.loc[row, \"checkin\"] = checkin[\"name\"]\n",
    "                    stops.loc[row, \"original_name\"] = checkin[\"name\"]\n",
    "                    stops.loc[row, \"parent\"] = checkin[\"parent\"]\n",
    "                    stops.loc[row, \"parent_id\"] = checkin[\"parent_id\"]\n",
    "                    stops.loc[row, \"categories\"] = \", \".join(checkin[\"categories\"])\n",
    "                    stops.loc[row, \"prob\"] = prob\n",
    "                    stops.loc[row, \"in_checkin\"] = in_checkin\n",
    "            else:\n",
    "                stops.loc[row, \"checkin\"] = \"Unknown Place\"\n",
    "        # else:                    \n",
    "        #     stops.loc[row, \"movement\"] = movement\n",
    "        #     stops.loc[row, \"movement_prob\"] = movement_prob"
   ]
  },
  {
   "cell_type": "markdown",
   "id": "0cc2bb49-a9d4-4aac-ba4b-cc2dfc42eaeb",
   "metadata": {},
   "source": [
    "## Start"
   ]
  },
  {
   "cell_type": "code",
   "execution_count": 36,
   "id": "conservative-estonia",
   "metadata": {
    "tags": []
   },
   "outputs": [
    {
     "data": {
      "application/vnd.jupyter.widget-view+json": {
       "model_id": "4aa2fdf5c554486f85475017feff96a0",
       "version_major": 2,
       "version_minor": 0
      },
      "text/plain": [
       "  0%|          | 0/627 [00:00<?, ?it/s]"
      ]
     },
     "metadata": {},
     "output_type": "display_data"
    }
   ],
   "source": [
    "MODES = [\"IMG\", \"REL\"]\n",
    "# stops = stops.loc[stops['first'].str.startswith('20190126', na=False)]\n",
    "# stops = stops.reset_index()\n",
    "num = len(stops)\n",
    "# num = 20\n",
    "for i in tqdm(range(num)):\n",
    "    get_checkin(i)"
   ]
  },
  {
   "cell_type": "code",
   "execution_count": 37,
   "id": "2d97219d-6129-47dc-9196-ca9121fe1537",
   "metadata": {},
   "outputs": [
    {
     "data": {
      "application/vnd.jupyter.widget-view+json": {
       "model_id": "f2cf5d37ccba4ea3a19623900de09840"
      },
      "text/plain": [
       "      stop                checkin categories movement parent  in_checkin  \\\n",
       "0     True                   HOME              Inside              False   \n",
       "1    False                                        Car              False   \n",
       "2     True  Charm Hand & Foot Spa              Inside              False   \n",
       "3    False                                        Car              False   \n",
       "4     True          Unknown Place              Inside              False   \n",
       "..     ...                    ...        ...      ...    ...         ...   \n",
       "622   True  Charm Hand & Foot Spa              Inside              False   \n",
       "623  False                                        Car              False   \n",
       "624   True          Unknown Place              Inside              False   \n",
       "625  False                                        Car              False   \n",
       "626   True                   HOME              Inside              False   \n",
       "\n",
       "    original_name        lat       lon stop_label   max_radius  \\\n",
       "0                  53.389988 -6.145742       01_0    17.318135   \n",
       "1                  53.389924 -6.145848        NaN    50.000000   \n",
       "2                  53.386871 -6.147468       01_1    30.199991   \n",
       "3                  53.384540 -6.170121        NaN  1535.984478   \n",
       "4                        NaN       NaN     INSIDE    50.000000   \n",
       "..            ...        ...       ...        ...          ...   \n",
       "622                53.386698 -6.147216       31_1     2.496227   \n",
       "623                53.389456 -6.156002        NaN   661.134242   \n",
       "624                      NaN       NaN     INSIDE    50.000000   \n",
       "625                53.389344 -6.165551        NaN  1063.945154   \n",
       "626                53.389947 -6.145793       31_0    26.876911   \n",
       "\n",
       "                                               all_lat  \\\n",
       "0    [53.38999663909091, 53.38999663909091, 53.3900...   \n",
       "1                                        [53.38992364]   \n",
       "2    [53.38703702, 53.38681616, 53.38681616, 53.386...   \n",
       "3    [53.38681499, 53.3888599, 53.3888599, 53.39107...   \n",
       "4                                                   []   \n",
       "..                                                 ...   \n",
       "622  [53.386712436, 53.386706404, 53.3867013, 53.38...   \n",
       "623  [53.38668842, 53.38940808, 53.38940808, 53.390...   \n",
       "624                                                 []   \n",
       "625  [53.38846254, 53.38846254, 53.39021541, 53.389...   \n",
       "626  [53.39010522, 53.39010522, 53.39002998, 53.390...   \n",
       "\n",
       "                                               all_lon  \\\n",
       "0    [-6.145706673636364, -6.145706673636364, -6.14...   \n",
       "1                                        [-6.14584776]   \n",
       "2    [-6.14782689, -6.14734602, -6.14734602, -6.147...   \n",
       "3    [-6.14735209, -6.15206273, -6.15206273, -6.167...   \n",
       "4                                                   []   \n",
       "..                                                 ...   \n",
       "622  [-6.147224268, -6.147214102, -6.1472055, -6.14...   \n",
       "623  [-6.14720965, -6.15308767, -6.15308767, -6.163...   \n",
       "624                                                 []   \n",
       "625  [-6.18147461, -6.18147461, -6.17297034, -6.165...   \n",
       "626  [-6.14609769, -6.14609769, -6.14585885, -6.145...   \n",
       "\n",
       "                                                images  \\\n",
       "0    ['20190101_103717_000.jpg', '20190101_103749_0...   \n",
       "1                          ['20190101_130358_000.jpg']   \n",
       "2    ['20190101_130430_000.jpg', '20190101_130502_0...   \n",
       "3    ['20190101_130950_000.jpg', '20190101_131022_0...   \n",
       "4    ['20190101_131718_000.jpg', '20190101_131750_0...   \n",
       "..                                                 ...   \n",
       "622  ['20190131_204442_000.jpg', '20190131_204514_0...   \n",
       "623  ['20190131_211532_000.jpg', '20190131_211604_0...   \n",
       "624  ['20190131_211948_000.jpg', '20190131_212020_0...   \n",
       "625  ['20190131_212052_000.jpg', '20190131_212124_0...   \n",
       "626  ['20190131_212613_000.jpg', '20190131_212646_0...   \n",
       "\n",
       "                       first                     last    duration place_id  \\\n",
       "0    20190101_103717_000.jpg  20190101_130326_000.jpg  147.150000            \n",
       "1    20190101_130358_000.jpg  20190101_130358_000.jpg    1.000000            \n",
       "2    20190101_130430_000.jpg  20190101_130918_000.jpg    5.800000            \n",
       "3    20190101_130950_000.jpg  20190101_131646_000.jpg    7.933333            \n",
       "4    20190101_131718_000.jpg  20190101_131750_000.jpg    1.533333            \n",
       "..                       ...                      ...         ...      ...   \n",
       "622  20190131_204442_000.jpg  20190131_211500_000.jpg   31.300000            \n",
       "623  20190131_211532_000.jpg  20190131_211916_000.jpg    4.733333            \n",
       "624  20190131_211948_000.jpg  20190131_212020_000.jpg    1.533333            \n",
       "625  20190131_212052_000.jpg  20190131_212541_000.jpg    5.816667            \n",
       "626  20190131_212613_000.jpg  20190131_225941_000.jpg   94.466667            \n",
       "\n",
       "     prob parent_id  \n",
       "0     0.0            \n",
       "1     0.0            \n",
       "2     0.0            \n",
       "3     0.0            \n",
       "4     0.0            \n",
       "..    ...       ...  \n",
       "622   0.0            \n",
       "623   0.0            \n",
       "624   0.0            \n",
       "625   0.0            \n",
       "626   0.0            \n",
       "\n",
       "[627 rows x 20 columns]"
      ]
     },
     "metadata": {},
     "output_type": "display_data"
    }
   ],
   "source": [
    "confusion_matrix = pd.crosstab(metadata['stop_GT'], metadata['stop'], rownames=['Actual'], colnames=['Predicted'])\n",
    "print(confusion_matrix)"
   ]
  },
  {
   "cell_type": "code",
   "execution_count": 38,
   "id": "878d5538-ed86-44ea-b0ea-307343f6b74d",
   "metadata": {},
   "outputs": [
    {
     "data": {
      "application/vnd.jupyter.widget-view+json": {
       "model_id": "e332cfa1d2354bda8a4baa81ed105e96"
      },
      "text/plain": [
       "     stop                       checkin                   categories movement  \\\n",
       "451  True                          HOME                                Inside   \n",
       "453  True         Charm Hand & Foot Spa                                Inside   \n",
       "457  True         Charm Hand & Foot Spa                   Nail Salon   Inside   \n",
       "459  True                          HOME                                Inside   \n",
       "461  True         Charm Hand & Foot Spa                   Nail Salon   Inside   \n",
       "462  True         Charm Hand & Foot Spa                                Inside   \n",
       "464  True       Cois Bá Family Practice              Doctor's Office   Inside   \n",
       "470  True          Omni Shopping Centre                Shopping Mall   Inside   \n",
       "472  True         Charm Hand & Foot Spa                                Inside   \n",
       "474  True                          HOME                                Inside   \n",
       "476  True         Charm Hand & Foot Spa                                Inside   \n",
       "477  True         Charm Hand & Foot Spa                                Inside   \n",
       "479  True         Gullivers Retail Park               Shopping Plaza   Inside   \n",
       "481  True          Musgrave Marketplace  Grocery Store / Supermarket   Inside   \n",
       "483  True  Dublin City University (DCU)       College and University   Inside   \n",
       "484  True         Charm Hand & Foot Spa                                Inside   \n",
       "486  True                      Kopitiam             Malay Restaurant   Inside   \n",
       "488  True    Clare Hall Shopping Centre                Shopping Mall   Inside   \n",
       "490  True                          HOME                                Inside   \n",
       "\n",
       "    parent  in_checkin                 original_name        lat       lon  \\\n",
       "451              False                                53.389978 -6.145813   \n",
       "453              False                                53.386787 -6.147181   \n",
       "457              False         Charm Hand & Foot Spa  53.387830 -6.149576   \n",
       "459              False                                53.389799 -6.145873   \n",
       "461              False         Charm Hand & Foot Spa  53.387808 -6.146852   \n",
       "462              False                                53.386677 -6.147226   \n",
       "464              False       Cois Bá Family Practice  53.388454 -6.140170   \n",
       "470              False          Omni Shopping Centre  53.392008 -6.247625   \n",
       "472              False                                53.386700 -6.147219   \n",
       "474              False                                53.389917 -6.145771   \n",
       "476              False                                53.387287 -6.148071   \n",
       "477              False                                53.386723 -6.147172   \n",
       "479              False         Gullivers Retail Park  53.405224 -6.261100   \n",
       "481              False          Musgrave Marketplace  53.403124 -6.270252   \n",
       "483              False  Dublin City University (DCU)  53.386558 -6.232301   \n",
       "484              False                                53.386774 -6.147222   \n",
       "486              False                      Kopitiam  53.349823 -6.269563   \n",
       "488              False    Clare Hall Shopping Centre  53.401263 -6.180138   \n",
       "490              False                                53.389978 -6.145766   \n",
       "\n",
       "    stop_label   max_radius  \\\n",
       "451       26_0    15.604476   \n",
       "453       26_1    16.172275   \n",
       "457     INSIDE   188.644640   \n",
       "459       26_0   209.693492   \n",
       "461       26_0   100.349928   \n",
       "462       26_1     4.523521   \n",
       "464       26_8    33.873288   \n",
       "470      26_11   108.589181   \n",
       "472     INSIDE    50.000000   \n",
       "474       26_0   190.050775   \n",
       "476       26_0    50.000000   \n",
       "477       26_1     5.321987   \n",
       "479      26_13    22.057367   \n",
       "481      26_14   187.294634   \n",
       "483      26_16  5671.987908   \n",
       "484       26_1    10.237808   \n",
       "486      26_18    52.867316   \n",
       "488      26_19    75.697369   \n",
       "490       26_0    30.972011   \n",
       "\n",
       "                                               all_lat  \\\n",
       "451  [53.38999033, 53.38999033, 53.38999761, 53.389...   \n",
       "453  [53.38678151, 53.38678151, 53.3868807, 53.3868...   \n",
       "457  [53.38889659, 53.388007646, 53.388007646, 53.3...   \n",
       "459  [53.387969186, 53.387969186, 53.389264142, 53....   \n",
       "461            [53.38869216, 53.38736552, 53.38736552]   \n",
       "462  [53.3867022, 53.3867022, 53.3866987, 53.386698...   \n",
       "464  [53.3884341, 53.3884341, 53.3884902, 53.388490...   \n",
       "470  [53.39297624, 53.39297624, 53.3925032, 53.3921...   \n",
       "472                                      [53.38669974]   \n",
       "474  [53.38836808, 53.389978, 53.389978, 53.3900016...   \n",
       "476                                      [53.38728739]   \n",
       "477   [53.3866768, 53.3866768, 53.3867691, 53.3867691]   \n",
       "479  [53.40502973, 53.40502973, 53.40522185, 53.405...   \n",
       "481  [53.401911825, 53.401911825, 53.40249032, 53.4...   \n",
       "483  [53.3865904, 53.38626957, 53.38626957, 53.3854...   \n",
       "484  [53.3868264, 53.3868264, 53.38680433, 53.38680...   \n",
       "486  [53.3499021, 53.34990979230769, 53.34990979230...   \n",
       "488  [53.40165098, 53.40165098, 53.40129475, 53.401...   \n",
       "490  [53.38999605, 53.39001208, 53.39001208, 53.390...   \n",
       "\n",
       "                                               all_lon  \\\n",
       "451  [-6.14577786, -6.14577786, -6.14576816, -6.145...   \n",
       "453  [-6.14717241, -6.14717241, -6.14712387, -6.147...   \n",
       "457  [-6.15177958, -6.149943376, -6.149943376, -6.1...   \n",
       "459  [-6.14662619, -6.14662619, -6.146063310000001,...   \n",
       "461            [-6.14655872, -6.14699904, -6.14699904]   \n",
       "462  [-6.1472192, -6.1472192, -6.14724, -6.14724, -...   \n",
       "464  [-6.13966204, -6.13966204, -6.1404031, -6.1404...   \n",
       "470  [-6.24742031, -6.24742031, -6.2476472, -6.2468...   \n",
       "472                                      [-6.14721932]   \n",
       "474  [-6.14697393, -6.145646, -6.145646, -6.145694,...   \n",
       "476                                      [-6.14807059]   \n",
       "477   [-6.1471927, -6.1471927, -6.1471508, -6.1471508]   \n",
       "479  [-6.26116409, -6.26116409, -6.26102718, -6.261...   \n",
       "481  [-6.2682980275, -6.2682980275, -6.268936375, -...   \n",
       "483  [-6.26147025, -6.25945277, -6.25945277, -6.258...   \n",
       "484  [-6.14733068, -6.14733068, -6.14718081, -6.147...   \n",
       "486  [-6.2697318, -6.269720082051282, -6.2697200820...   \n",
       "488  [-6.18072996, -6.18072996, -6.18058073, -6.180...   \n",
       "490  [-6.14583769, -6.14587023, -6.14587023, -6.145...   \n",
       "\n",
       "                                                images  \\\n",
       "451  ['20190126_070712_000.jpg', '20190126_070744_0...   \n",
       "453  ['20190126_083714_000.jpg', '20190126_083746_0...   \n",
       "457  ['20190126_094447_000.jpg', '20190126_094519_0...   \n",
       "459  ['20190126_095111_000.jpg', '20190126_095143_0...   \n",
       "461  ['20190126_105623_000.jpg', '20190126_105655_0...   \n",
       "462  ['20190126_110111_000.jpg', '20190126_110143_0...   \n",
       "464  ['20190126_111100_000.jpg', '20190126_111132_0...   \n",
       "470  ['20190126_115926_000.jpg', '20190126_115958_0...   \n",
       "472                        ['20190126_130301_000.jpg']   \n",
       "474  ['20190126_130541_000.jpg', '20190126_130613_0...   \n",
       "476  ['20190126_142530_000.jpg', '20190126_142602_0...   \n",
       "477  ['20190126_142706_000.jpg', '20190126_142738_0...   \n",
       "479  ['20190126_145101_000.jpg', '20190126_145133_0...   \n",
       "481  ['20190126_150317_000.jpg', '20190126_150349_0...   \n",
       "483  ['20190126_155957_000.jpg', '20190126_160029_0...   \n",
       "484  ['20190126_191519_000.jpg', '20190126_191551_0...   \n",
       "486  ['20190126_195533_000.jpg', '20190126_195618_0...   \n",
       "488  ['20190126_210450_000.jpg', '20190126_210522_0...   \n",
       "490  ['20190126_221802_000.jpg', '20190126_221906_0...   \n",
       "\n",
       "                       first                     last    duration place_id  \\\n",
       "451  20190126_070712_000.jpg  20190126_083610_000.jpg   89.966667            \n",
       "453  20190126_083714_000.jpg  20190126_084202_000.jpg    5.800000            \n",
       "457  20190126_094447_000.jpg  20190126_094935_000.jpg    5.800000            \n",
       "459  20190126_095111_000.jpg  20190126_105447_000.jpg   64.600000            \n",
       "461  20190126_105623_000.jpg  20190126_110039_000.jpg    5.266667            \n",
       "462  20190126_110111_000.jpg  20190126_110924_000.jpg    9.216667            \n",
       "464  20190126_111100_000.jpg  20190126_111412_000.jpg    4.200000            \n",
       "470  20190126_115926_000.jpg  20190126_124024_000.jpg   41.966667            \n",
       "472  20190126_130301_000.jpg  20190126_130301_000.jpg    1.000000            \n",
       "474  20190126_130541_000.jpg  20190126_142426_000.jpg   79.750000            \n",
       "476  20190126_142530_000.jpg  20190126_142634_000.jpg    2.066667            \n",
       "477  20190126_142706_000.jpg  20190126_142959_000.jpg    3.883333            \n",
       "479  20190126_145101_000.jpg  20190126_145757_000.jpg    7.933333            \n",
       "481  20190126_150317_000.jpg  20190126_154904_000.jpg   46.783333            \n",
       "483  20190126_155957_000.jpg  20190126_191447_000.jpg  195.833333            \n",
       "484  20190126_191519_000.jpg  20190126_192215_000.jpg    7.933333            \n",
       "486  20190126_195533_000.jpg  20190126_203958_000.jpg   45.416667            \n",
       "488  20190126_210450_000.jpg  20190126_220826_000.jpg   64.600000            \n",
       "490  20190126_221802_000.jpg  20190126_235645_000.jpg   99.716667            \n",
       "\n",
       "         prob parent_id  \n",
       "451  0.000000            \n",
       "453  0.000000            \n",
       "457  0.818049            \n",
       "459  0.000000            \n",
       "461  0.988715            \n",
       "462  0.000000            \n",
       "464  0.181772            \n",
       "470  0.900379            \n",
       "472  0.000000            \n",
       "474  0.000000            \n",
       "476  0.000000            \n",
       "477  0.000000            \n",
       "479  1.206932            \n",
       "481  0.214167            \n",
       "483  0.772150            \n",
       "484  0.000000            \n",
       "486  0.759121            \n",
       "488  1.812202            \n",
       "490  0.000000            "
      ]
     },
     "metadata": {},
     "output_type": "display_data"
    }
   ],
   "source": [
    "from sklearn.metrics import cohen_kappa_score, accuracy_score\n",
    "accuracy_score(metadata['stop_GT'], metadata['stop'])"
   ]
  },
  {
   "cell_type": "code",
   "execution_count": 20,
   "id": "35bd01a2-e874-400f-8cd6-f5424e15b199",
   "metadata": {},
   "outputs": [],
   "source": [
    "# stops.to_csv(\"files/semantic_stops.csv\")"
   ]
  },
  {
   "cell_type": "code",
   "execution_count": 39,
   "id": "120001b4-aadb-46ee-a54f-ee243e805b70",
   "metadata": {
    "tags": []
   },
   "outputs": [
    {
     "data": {
      "application/vnd.jupyter.widget-view+json": {
       "model_id": "7357568e528044e6b6e194c04d67b9fb",
       "version_major": 2,
       "version_minor": 0
      },
      "text/plain": [
       "  0%|          | 0/627 [00:00<?, ?it/s]"
      ]
     },
     "metadata": {},
     "output_type": "display_data"
    },
    {
     "data": {
      "application/vnd.jupyter.widget-view+json": {
       "model_id": "a3a55efb62c9415dba1d68b7e1997689",
       "version_major": 2,
       "version_minor": 0
      },
      "text/plain": [
       "  0%|          | 0/6 [00:00<?, ?it/s]"
      ]
     },
     "metadata": {},
     "output_type": "display_data"
    }
   ],
   "source": [
    "import importlib\n",
    "import agg_stops\n",
    "importlib.reload(agg_stops)\n",
    "\n",
    "stops = agg_stops.agg_stop(stops)"
   ]
  },
  {
   "cell_type": "markdown",
   "id": "72259ba6-5225-4135-a3ce-26eb0d48c4f4",
   "metadata": {},
   "source": [
    "# Reclassify Unknown Place"
   ]
  },
  {
   "cell_type": "code",
   "execution_count": 40,
   "id": "9d13ffa6-5daf-4b50-8d82-87237e87ea43",
   "metadata": {},
   "outputs": [
    {
     "data": {
      "application/vnd.jupyter.widget-view+json": {
       "model_id": "36ce5b58cad54f3ebefaad88520e6282",
       "version_major": 2,
       "version_minor": 0
      },
      "text/plain": [
       "  0%|          | 0/487 [00:00<?, ?it/s]"
      ]
     },
     "metadata": {},
     "output_type": "display_data"
    }
   ],
   "source": [
    "# stops = pd.read_csv('files/agg_stops.csv', sep=',', decimal='.')\n",
    "def calculate_distance(checkin, all_lat, all_lon, lat, lon):\n",
    "    if checkin == \"Unknown Place\":\n",
    "        dists = [distance(lt, ln, lat, lon) for (lt, ln) in zip(all_lat, all_lon)]\n",
    "        dists = [d for d in dists if d]\n",
    "        if dists:\n",
    "            return max(dists)\n",
    "    return 50\n",
    "    \n",
    "stops[\"max_radius\"] = stops.progress_apply(lambda x: calculate_distance(x['checkin'], x['all_lat'], \n",
    "                                                               x['all_lon'],\n",
    "                                                               x['lat'],\n",
    "                                                               x['lon']), axis=1)"
   ]
  },
  {
   "cell_type": "code",
   "execution_count": 41,
   "id": "be43e20c-e148-4d20-90da-f303767f2352",
   "metadata": {},
   "outputs": [
    {
     "data": {
      "text/plain": [
       "64"
      ]
     },
     "execution_count": 41,
     "metadata": {},
     "output_type": "execute_result"
    }
   ],
   "source": [
    "sum(stops['checkin'] == 'Unknown Place')"
   ]
  },
  {
   "cell_type": "code",
   "execution_count": 42,
   "id": "3ee768b0-f34b-4cfc-ad85-4745925caf92",
   "metadata": {
    "tags": []
   },
   "outputs": [
    {
     "data": {
      "application/vnd.jupyter.widget-view+json": {
       "model_id": "0944693f899c4da4b26563d387fdbf12",
       "version_major": 2,
       "version_minor": 0
      },
      "text/plain": [
       "  0%|          | 0/487 [00:00<?, ?it/s]"
      ]
     },
     "metadata": {},
     "output_type": "display_data"
    }
   ],
   "source": [
    "for i, checkin in tqdm(enumerate(stops['checkin']), total=len(stops)):\n",
    "    if checkin == \"Unknown Place\":\n",
    "        get_checkin(i)"
   ]
  },
  {
   "cell_type": "code",
   "execution_count": 25,
   "id": "1dc92bbf-1a22-4ab4-ae68-125e60416cfb",
   "metadata": {},
   "outputs": [],
   "source": [
    "# stops.to_csv(\"files/final_stops.csv\")"
   ]
  },
  {
   "cell_type": "code",
   "execution_count": 43,
   "id": "c9ecb151-269b-48fe-960e-a65bccfa21cb",
   "metadata": {},
   "outputs": [
    {
     "data": {
      "application/vnd.jupyter.widget-view+json": {
       "model_id": "8f19759f8d9a45378ceaebe2effea0ab",
       "version_major": 2,
       "version_minor": 0
      },
      "text/plain": [
       "  0%|          | 0/487 [00:00<?, ?it/s]"
      ]
     },
     "metadata": {},
     "output_type": "display_data"
    },
    {
     "data": {
      "application/vnd.jupyter.widget-view+json": {
       "model_id": "76d7cf6d61b640a49e31a176b5ea1316",
       "version_major": 2,
       "version_minor": 0
      },
      "text/plain": [
       "  0%|          | 0/6 [00:00<?, ?it/s]"
      ]
     },
     "metadata": {},
     "output_type": "display_data"
    }
   ],
   "source": [
    "stops = agg_stops.agg_stop(stops)\n",
    "# stops['checkin'] = stops['checkin'].progress_apply(to_english)"
   ]
  },
  {
   "cell_type": "code",
   "execution_count": 44,
   "id": "4926c510-f467-4dfc-a85e-854110593ae8",
   "metadata": {},
   "outputs": [
    {
     "data": {
      "application/vnd.jupyter.widget-view+json": {
       "model_id": "35aa0a96e1dc4dbb93910ac5d0977573",
       "version_major": 2,
       "version_minor": 0
      },
      "text/plain": [
       "TabSection(children=(BrowserCheck(), HBox(children=(Tab(closable=False, title='plot', _dom_classes=('bamboolib…"
      ]
     },
     "metadata": {},
     "output_type": "display_data"
    }
   ],
   "source": [
    "bam.plot(stops, 'stop')"
   ]
  },
  {
   "cell_type": "code",
   "execution_count": 45,
   "id": "e0ec4298-53ca-4f58-9b6a-ab8a8b7a81a3",
   "metadata": {},
   "outputs": [],
   "source": [
    "stops.to_csv(\"files/test/final_com.csv\")"
   ]
  },
  {
   "cell_type": "code",
   "execution_count": 29,
   "id": "6188d101-6bd6-4959-9997-0c2f9f2aaaef",
   "metadata": {},
   "outputs": [
    {
     "data": {
      "application/vnd.jupyter.widget-view+json": {
       "model_id": "4220c23642214102aaa5780e0f451a64"
      },
      "text/plain": [
       "     new_name  stop                       checkin  \\\n",
       "318       319  True         Charm Hand & Foot Spa   \n",
       "320       321  True         Charm Hand & Foot Spa   \n",
       "322       323  True                          HOME   \n",
       "324       325  True         Charm Hand & Foot Spa   \n",
       "326       327  True       Cois Bá Family Practice   \n",
       "328       329  True          Omni Shopping Centre   \n",
       "330       331  True         Charm Hand & Foot Spa   \n",
       "332       333  True                          HOME   \n",
       "334       335  True         Charm Hand & Foot Spa   \n",
       "336       337  True         Gullivers Retail Park   \n",
       "338       339  True          Musgrave Marketplace   \n",
       "340       341  True  Dublin City University (DCU)   \n",
       "341       342  True         Charm Hand & Foot Spa   \n",
       "343       344  True                      Kopitiam   \n",
       "345       346  True    Clare Hall Shopping Centre   \n",
       "347       348  True                          HOME   \n",
       "\n",
       "                      categories parent        lat       lon  \\\n",
       "318                                      53.386787 -6.147181   \n",
       "320                   Nail Salon         53.389127 -6.150466   \n",
       "322                                      53.389973 -6.145784   \n",
       "324                   Nail Salon         53.387052 -6.147102   \n",
       "326              Doctor's Office         53.388454 -6.140170   \n",
       "328                Shopping Mall         53.392008 -6.247654   \n",
       "330                                      53.386700 -6.147219   \n",
       "332                                      53.389920 -6.145781   \n",
       "334                                      53.386901 -6.147476   \n",
       "336               Shopping Plaza         53.405224 -6.261100   \n",
       "338  Grocery Store / Supermarket         53.403124 -6.270252   \n",
       "340       College and University         53.385646 -6.254247   \n",
       "341                                      53.386753 -6.147201   \n",
       "343             Malay Restaurant         53.349901 -6.269692   \n",
       "345                Shopping Mall         53.401264 -6.180113   \n",
       "347                                      53.389986 -6.145768   \n",
       "\n",
       "                                               all_lon  \\\n",
       "318  [-6.14717241, -6.14717241, -6.14712387, -6.147...   \n",
       "320  [-6.15177958, -6.15177958, -6.15177958, -6.151...   \n",
       "322  [-6.14614904, -6.14614904, -6.1458961, -6.1458...   \n",
       "324  [-6.147067433466667, -6.147067433466667, -6.14...   \n",
       "326  [-6.13966204, -6.13966204, -6.1404031, -6.1404...   \n",
       "328  [-6.24742031, -6.24742031, -6.2476472, -6.2476...   \n",
       "330                                      [-6.14721932]   \n",
       "332  [-6.14697393, -6.14697393, -6.14697393, -6.146...   \n",
       "334  [-6.14807059, -6.14807059, -6.14807059, -6.147...   \n",
       "336  [-6.26116409, -6.26116409, -6.26102718, -6.261...   \n",
       "338  [-6.2702521636607145, -6.2702521636607145, -6....   \n",
       "340  [-6.26147025, -6.26147025, -6.26061844, -6.260...   \n",
       "341  [-6.147203756904761, -6.147203756904761, -6.14...   \n",
       "343  [-6.2697318, -6.2697318, -6.2697318, -6.269731...   \n",
       "345  [-6.180113173296034, -6.180113173296034, -6.18...   \n",
       "347  [-6.14583769, -6.14587023, -6.14587023, -6.145...   \n",
       "\n",
       "                                               all_lat  \\\n",
       "318  [53.38678151, 53.38678151, 53.3868807, 53.3868...   \n",
       "320  [53.38889659, 53.38889659, 53.38889659, 53.388...   \n",
       "322  [53.38988562, 53.38988562, 53.38992004, 53.389...   \n",
       "324  [53.38715658773334, 53.38715658773334, 53.3871...   \n",
       "326  [53.3884341, 53.3884341, 53.3884902, 53.388490...   \n",
       "328  [53.39297624, 53.39297624, 53.3925032, 53.3925...   \n",
       "330                                      [53.38669974]   \n",
       "332  [53.38836808, 53.38836808, 53.38836808, 53.388...   \n",
       "334  [53.38728739, 53.38728739, 53.38728739, 53.386...   \n",
       "336  [53.40502973, 53.40502973, 53.40522185, 53.405...   \n",
       "338  [53.403123551250005, 53.403123551250005, 53.40...   \n",
       "340  [53.3865904, 53.3865904, 53.3863034525, 53.386...   \n",
       "341  [53.38675563785715, 53.38675563785715, 53.3868...   \n",
       "343  [53.3499021, 53.3499021, 53.3499021, 53.349902...   \n",
       "345  [53.40126352768472, 53.40126352768472, 53.4012...   \n",
       "347  [53.38999605, 53.39001208, 53.39001208, 53.390...   \n",
       "\n",
       "                       first                     last  \\\n",
       "318  20190126_083714_000.jpg  20190126_084202_000.jpg   \n",
       "320  20190126_094447_000.jpg  20190126_094935_000.jpg   \n",
       "322  20190126_095111_000.jpg  20190126_105447_000.jpg   \n",
       "324  20190126_105623_000.jpg  20190126_110924_000.jpg   \n",
       "326  20190126_111100_000.jpg  20190126_111412_000.jpg   \n",
       "328  20190126_115926_000.jpg  20190126_124024_000.jpg   \n",
       "330  20190126_130301_000.jpg  20190126_130301_000.jpg   \n",
       "332  20190126_130541_000.jpg  20190126_142426_000.jpg   \n",
       "334  20190126_142530_000.jpg  20190126_142959_000.jpg   \n",
       "336  20190126_145101_000.jpg  20190126_145757_000.jpg   \n",
       "338  20190126_150317_000.jpg  20190126_154904_000.jpg   \n",
       "340  20190126_155957_000.jpg  20190126_191447_000.jpg   \n",
       "341  20190126_191519_000.jpg  20190126_192215_000.jpg   \n",
       "343  20190126_195533_000.jpg  20190126_203958_000.jpg   \n",
       "345  20190126_210450_000.jpg  20190126_220826_000.jpg   \n",
       "347  20190126_221802_000.jpg  20190127_075207_000.jpg   \n",
       "\n",
       "                                                images    duration  \n",
       "318  [20190126_083714_000.jpg, 20190126_083746_000....    5.800000  \n",
       "320  [20190126_094447_000.jpg, 20190126_094519_000....    5.800000  \n",
       "322  [20190126_095111_000.jpg, 20190126_095143_000....   64.600000  \n",
       "324  [20190126_105623_000.jpg, 20190126_105655_000....   14.016667  \n",
       "326  [20190126_111100_000.jpg, 20190126_111132_000....    4.200000  \n",
       "328  [20190126_115926_000.jpg, 20190126_115958_000....   41.966667  \n",
       "330                          [20190126_130301_000.jpg]    1.000000  \n",
       "332  [20190126_130541_000.jpg, 20190126_130613_000....   79.750000  \n",
       "334  [20190126_142530_000.jpg, 20190126_142602_000....    5.483333  \n",
       "336  [20190126_145101_000.jpg, 20190126_145133_000....    7.933333  \n",
       "338  [20190126_150317_000.jpg, 20190126_150349_000....   46.783333  \n",
       "340  [20190126_155957_000.jpg, 20190126_160029_000....  195.833333  \n",
       "341  [20190126_191519_000.jpg, 20190126_191551_000....    7.933333  \n",
       "343  [20190126_195533_000.jpg, 20190126_195618_000....   45.416667  \n",
       "345  [20190126_210450_000.jpg, 20190126_210522_000....   64.600000  \n",
       "347  [20190126_221802_000.jpg, 20190126_221906_000....  575.083333  "
      ]
     },
     "metadata": {},
     "output_type": "display_data"
    }
   ],
   "source": [
    "stops_only = stops.loc[~(stops['stop'] == False)]\n",
    "test = stops_only.loc[stops_only['first'].str.startswith('20190126', na=False)]\n",
    "test"
   ]
  },
  {
   "cell_type": "markdown",
   "id": "endangered-front",
   "metadata": {
    "jp-MarkdownHeadingCollapsed": true,
    "tags": []
   },
   "source": [
    "# Merge places"
   ]
  },
  {
   "cell_type": "code",
   "execution_count": null,
   "id": "legendary-theology",
   "metadata": {},
   "outputs": [],
   "source": [
    "df = stops.loc[stops['stop'] == True]\n",
    "df = df.dropna(subset=['lat', 'lon'])\n",
    "df = df.loc[~(df['checkin'].isin(['Car', 'Airplane']))]\n",
    "df"
   ]
  },
  {
   "cell_type": "code",
   "execution_count": null,
   "id": "quick-fireplace",
   "metadata": {},
   "outputs": [],
   "source": [
    "test = stops.loc[stops['first'].str.startswith('20190101', na=False)]\n",
    "test"
   ]
  },
  {
   "cell_type": "code",
   "execution_count": null,
   "id": "bored-credit",
   "metadata": {},
   "outputs": [],
   "source": [
    "# df = pd.read_csv('temp/stops_updated.tsv', sep='\\t')\n",
    "# df = pd.concat([df, df_new])\n",
    "\n",
    "\n",
    "# df = df[['best_name_google', 'found', 'checkin', 'cluster_label'] + ['first', 'last'] + ['lat', 'lon', 'stop', 'best_label_google', 'best_prob_google', 'best_place_id_google', 'occurances']]\n",
    "# df = df.loc[~df['first'].isin(['nan'])]\n",
    "df = df.sort_values(by=['first'], ascending=[True])\n",
    "df['occurances'] = df['occurances'].astype('Int64')\n",
    "df['occurances'] = df.groupby(['cluster_label'])['cluster_label'].transform('count')\n",
    "df = df.loc[~(df['first'].isin(['nan']))]\n",
    "df = df.loc[~(df['last'].isin(['nan']))]\n",
    "df = df.dropna(subset=['lat', 'first', 'last'])\n",
    "df = df.sort_values(by=['first'], ascending=[True])\n",
    "df = df.drop(columns=['index'])\n",
    "df = df.reset_index()\n",
    "df\n"
   ]
  },
  {
   "cell_type": "code",
   "execution_count": null,
   "id": "healthy-chapel",
   "metadata": {},
   "outputs": [],
   "source": [
    "gps = pd.read_csv(r'/home/tlduyen/LSC22/process/VAISL/files/cleaned_gps.csv', sep=',', decimal='.')\n",
    "# Split images into different rows:\n",
    "gps[\"ImageID\"]=gps[\"ImageID\"].str.split(\",\")\n",
    "gps = gps.explode(\"ImageID\").reset_index()\n",
    "gps[\"ImageID\"] = gps[\"ImageID\"].str.replace(r'(\\[|\\]|\\'|\\s)', '', regex=True)\n",
    "gps.loc[gps['ImageID'] == \"\", 'ImageID'] = np.nan\n",
    "gps = gps.loc[gps['ImageID'].notna()]\n",
    "gps"
   ]
  },
  {
   "cell_type": "code",
   "execution_count": null,
   "id": "accessible-queue",
   "metadata": {
    "code_folding": []
   },
   "outputs": [],
   "source": [
    "corrects = stops.loc[stops[\"best_name\"] == stops[\"checkin\"]]\n",
    "corrects"
   ]
  },
  {
   "cell_type": "code",
   "execution_count": null,
   "id": "superb-possible",
   "metadata": {},
   "outputs": [],
   "source": [
    "def first_last_to_list(first, last):\n",
    "    start = image_id_to_index[first.strip('[], ').split('.')[0] + \".jpg\"]\n",
    "    end = image_id_to_index[last.strip('[] ').split('.')[0] + \".jpg\"]\n",
    "    return end - start + 1\n",
    "\n",
    "def average(first, last, default, col):\n",
    "    start = image_id_to_index[first.strip('[], ').split('.')[0] + \".jpg\"]\n",
    "    end = image_id_to_index[last.strip('[] ').split('.')[0] + \".jpg\"]\n",
    "    values = [default if np.isnan(i) else i  for i in both.iloc[start:end+1][col]]\n",
    "    return sum(values) / len(values)\n",
    "\n",
    "    \n",
    "df[\"len\"] = df.progress_apply(lambda x: first_last_to_list(x[\"first\"], x[\"last\"]), axis=1)\n",
    "df[\"lat\"] = df.progress_apply(lambda x: average(x[\"first\"], x[\"last\"], x[\"lat\"], \"latitude\"), axis=1)\n",
    "df[\"lon\"] = df.progress_apply(lambda x: average(x[\"first\"], x[\"last\"], x[\"lon\"], \"longitude\"), axis=1)\n",
    "\n",
    "df = df.sort_values(by=['first'], ascending=[True])"
   ]
  },
  {
   "cell_type": "code",
   "execution_count": null,
   "id": "earlier-protocol",
   "metadata": {},
   "outputs": [],
   "source": [
    "df[\"gap\"] = [-1 for i in range(len(df))]\n",
    "\n",
    "def next_gap(i):\n",
    "    df['gap'].iloc[i] = first_last_to_list(df.iloc[i][\"last\"], df.iloc[i + 1][\"first\"])\n",
    "    \n",
    "for i in tqdm(range(len(df) - 1)):\n",
    "    next_gap(i)"
   ]
  },
  {
   "cell_type": "code",
   "execution_count": null,
   "id": "pretty-colorado",
   "metadata": {},
   "outputs": [],
   "source": [
    "df = df.sort_values(by=['gap'], ascending=[False])\n",
    "# df = df[['lat', 'lon', 'best_name_google', 'found', 'checkin', 'len'] + ['gap'] + ['cluster_label', 'first', 'last', 'stop', 'best_label_google', 'best_prob_google', 'best_place_id_google', 'occurances', 'core', 'name_occurances']]\n",
    "df"
   ]
  },
  {
   "cell_type": "code",
   "execution_count": null,
   "id": "current-commission",
   "metadata": {},
   "outputs": [],
   "source": [
    "re_merge = True\n",
    "if re_merge:\n",
    "    stop_clustering = DBSCAN(eps=0.01/6371, min_samples=2, algorithm='ball_tree', metric='haversine') #0.01 = 10 meters\n",
    "    stop_clustering.fit(np.radians(df[['lat', 'lon']]))\n",
    "    df['cluster_label'] = stop_clustering.labels_\n",
    "    df['core'] = [i in stop_clustering.core_sample_indices_ for i in range(len(df))]\n",
    "\n",
    "    new_labels = []\n",
    "    count = max(df['cluster_label']) + 1\n",
    "    print(\"Max:\", count)\n",
    "    for label in df['cluster_label']:\n",
    "        if label == -1:\n",
    "            label = count\n",
    "            count += 1\n",
    "        new_labels.append(str(label))\n",
    "    df[\"cluster_label\"] = new_labels\n",
    "    df['occurances'] = df.groupby(['cluster_label'])['cluster_label'].transform('count')"
   ]
  },
  {
   "cell_type": "code",
   "execution_count": null,
   "id": "downtown-combine",
   "metadata": {},
   "outputs": [],
   "source": [
    "merged_stops = df.groupby(['cluster_label', 'checkin']).agg(lat=('lat', 'mean'),\n",
    "                                                           lon=('lon', 'mean'),\n",
    "                                                           occurances=('occurances', 'first'))\n",
    "merged_stops = merged_stops.reset_index()\n",
    "merged_stops = merged_stops.sort_values(by=['occurances', 'cluster_label'], ascending=[False, True])\n",
    "# merged_stops = merged_stops.sort_values(by='occurances', ascending=False)\n",
    "\n",
    "merged_stops = merged_stops.reset_index()\n",
    "merged_stops = merged_stops.drop(columns=['index'])\n",
    "merged_stops"
   ]
  },
  {
   "cell_type": "code",
   "execution_count": null,
   "id": "annoying-intake",
   "metadata": {},
   "outputs": [],
   "source": [
    "df.to_csv('files/semantic_stops.csv')\n",
    "merged_stops.to_csv('files/merged_stops.csv')"
   ]
  },
  {
   "cell_type": "code",
   "execution_count": null,
   "id": "extreme-steal",
   "metadata": {},
   "outputs": [],
   "source": [
    "# FOR MYSCEAL\n",
    "map_visualisation = []\n",
    "\n",
    "for index, row in merged_stops.iterrows():\n",
    "    map_visualisation.append((unidecode(row[\"checkin\"]), (row[\"lat\"], row[\"lon\"])))\n",
    "\n",
    "json.dump(map_visualisation, open(f\"../files/backend/map_visualisation.json\", 'w'))\n",
    "with open(f\"/home/tlduyen/LSC2020/LSC2020/ui/src/commonplace.js\", 'w') as f:\n",
    "    f.write(\"var commonPlace=\" + json.dumps(map_visualisation) + \";\\n\\nexport default commonPlace;\")"
   ]
  },
  {
   "cell_type": "code",
   "execution_count": null,
   "id": "modular-slope",
   "metadata": {},
   "outputs": [],
   "source": []
  }
 ],
 "metadata": {
  "kernelspec": {
   "display_name": "Python 3 (ipykernel)",
   "language": "python",
   "name": "python3"
  },
  "language_info": {
   "codemirror_mode": {
    "name": "ipython",
    "version": 3
   },
   "file_extension": ".py",
   "mimetype": "text/x-python",
   "name": "python",
   "nbconvert_exporter": "python",
   "pygments_lexer": "ipython3",
   "version": "3.8.3"
  },
  "toc": {
   "base_numbering": 1,
   "nav_menu": {},
   "number_sections": true,
   "sideBar": true,
   "skip_h1_title": false,
   "title_cell": "Table of Contents",
   "title_sidebar": "Contents",
   "toc_cell": false,
   "toc_position": {},
   "toc_section_display": true,
   "toc_window_display": false
  }
 },
 "nbformat": 4,
 "nbformat_minor": 5
}
