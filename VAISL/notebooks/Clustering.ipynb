{
 "cells": [
  {
   "cell_type": "code",
   "execution_count": 35,
   "id": "lyric-inflation",
   "metadata": {},
   "outputs": [],
   "source": [
    "import bamboolib as bam\n",
    "import pandas as pd\n",
    "import numpy as np\n",
    "from sklearn.cluster import DBSCAN\n",
    "from tqdm.notebook import tqdm\n",
    "tqdm.pandas()\n",
    "\n",
    "from gps_utils import *\n",
    "# Parameters\n",
    "MIN_PTS = 3"
   ]
  },
  {
   "cell_type": "markdown",
   "id": "searching-monte",
   "metadata": {
    "jp-MarkdownHeadingCollapsed": true,
    "tags": []
   },
   "source": [
    "# Clustering  + Merge data points based on clusters "
   ]
  },
  {
   "cell_type": "code",
   "execution_count": 36,
   "id": "concerned-showcase",
   "metadata": {},
   "outputs": [],
   "source": [
    "gps = pd.read_csv(r'files/test/cleaned_gps.csv', sep=',', decimal='.')\n",
    "minute_id_to_index = {minute_id:i for (i, minute_id) in enumerate(gps['minute_id'].values.tolist())}"
   ]
  },
  {
   "cell_type": "markdown",
   "id": "opposed-electronics",
   "metadata": {
    "tags": []
   },
   "source": [
    "## Cluster the rest"
   ]
  },
  {
   "cell_type": "code",
   "execution_count": 37,
   "id": "absolute-health",
   "metadata": {},
   "outputs": [
    {
     "data": {
      "application/vnd.jupyter.widget-view+json": {
       "model_id": "fcc2e768eb2a4166bfa8c03c0df0cbc0",
       "version_major": 2,
       "version_minor": 0
      },
      "text/plain": [
       "  0%|          | 0/1 [00:00<?, ?it/s]"
      ]
     },
     "metadata": {},
     "output_type": "display_data"
    }
   ],
   "source": [
    "eps=0.05/6371 #0.01 = 10 meters\n",
    "cluster_to_stop = []\n",
    "MONTHS = [\"201901\"]\n",
    "DAYS = [f\"{i+1:0>2}\" for i in range(31)]\n",
    "for MONTH in tqdm(MONTHS):\n",
    "    for DAY in DAYS:\n",
    "        # Filter by month\n",
    "        gps_drop = gps.loc[gps['minute_id'].str.startswith(MONTH + DAY, na=False)]\n",
    "        gps_drop = gps_drop.dropna(subset=['latitude'])\n",
    "        # Remove special places\n",
    "    #     gps_drop = gps_drop.loc[(gps_drop['special_place'].isna())]\n",
    "\n",
    "        # Clustering\n",
    "        clustering = DBSCAN(eps=eps, min_samples=MIN_PTS, algorithm='ball_tree', metric='haversine') \n",
    "        clustering.fit(np.radians(gps_drop[['latitude', 'longitude']]))\n",
    "        gps_drop['cluster_label'] = clustering.labels_\n",
    "        gps_drop['core'] = [i in clustering.core_sample_indices_ for i in range(len(gps_drop))]\n",
    "        # Assign cluster labels\n",
    "        # gps_drop = gps_drop.loc[~(gps_drop['cluster_label'] == -1)]\n",
    "        gps_drop = gps_drop.loc[gps_drop['core'] == True]\n",
    "        # print(f\"Outliers from {MONTH + DAY}:\", clustering.labels_[clustering.labels_ == -1].size)\n",
    "\n",
    "        clusters = gps_drop.groupby((gps_drop['cluster_label'].shift() != gps_drop['cluster_label']).cumsum()).agg(\n",
    "                                                         time_duration=('minute_id', time_duration),\n",
    "                                                         start=('minute_id', 'first'),\n",
    "                                                         end=('minute_id', 'last'),\n",
    "                                                         mean_spead=('speed', 'mean'),\n",
    "                                                         minute_id=('minute_id', list_all),\n",
    "                                                         label=('cluster_label', 'first'))\n",
    "        # Merge data points together based on their clusters\n",
    "        clusters = clusters.reset_index()\n",
    "        # clusters = clusters.loc[~(clusters['time_duration'] < 3)]\n",
    "        # Classify intial data points as stop/move\n",
    "        all_names = []\n",
    "        for index, row in clusters.iterrows():\n",
    "            if row[\"label\"] != -1:\n",
    "                cluster_to_stop.append((row[\"start\"], row['end'], row['minute_id'], f'{DAY}_{row[\"label\"]}'))"
   ]
  },
  {
   "cell_type": "markdown",
   "id": "spoken-occurrence",
   "metadata": {},
   "source": [
    "## Classify intial data points as stop/move"
   ]
  },
  {
   "cell_type": "code",
   "execution_count": 38,
   "id": "direct-budapest",
   "metadata": {},
   "outputs": [
    {
     "data": {
      "application/vnd.jupyter.widget-view+json": {
       "model_id": "75af0cd96d6141ea8797d6a95e735e52",
       "version_major": 2,
       "version_minor": 0
      },
      "text/plain": [
       "  0%|          | 0/441 [00:00<?, ?it/s]"
      ]
     },
     "metadata": {},
     "output_type": "display_data"
    }
   ],
   "source": [
    "def blank_column(value, length):\n",
    "    return [value for i in range(length)]\n",
    "\n",
    "stop_values = blank_column(False, len(gps))\n",
    "cluster_label_values = blank_column(\"\", len(gps))\n",
    "\n",
    "for start, end, minute_ids, cluster in tqdm(cluster_to_stop):\n",
    "    start_id = minute_id_to_index[start]\n",
    "    end_id = minute_id_to_index[end]\n",
    "    for minute_id in range(start_id, end_id + 1):\n",
    "        stop_values[minute_id] = True\n",
    "        cluster_label_values[minute_id] = cluster\n",
    "        \n",
    "gps = gps.assign(stop=stop_values,\n",
    "                 cluster_label=cluster_label_values)"
   ]
  },
  {
   "cell_type": "markdown",
   "id": "adaptive-range",
   "metadata": {},
   "source": [
    "# Post Processing"
   ]
  },
  {
   "cell_type": "markdown",
   "id": "64ef8ad2-ec5e-409e-b06a-0bf1e84a0604",
   "metadata": {
    "tags": []
   },
   "source": [
    "## Smoothing"
   ]
  },
  {
   "cell_type": "code",
   "execution_count": 39,
   "id": "a3f6f4df-b607-403e-b0c6-d8212e44111c",
   "metadata": {},
   "outputs": [],
   "source": [
    "def smooth(series, window_size=3):\n",
    "    smoothed_series = []\n",
    "    appended_series = list(series)\n",
    "    appended_series = [appended_series[0]] * (window_size//2) + appended_series + [appended_series[-1]] * (window_size//2)\n",
    "    for i in range(len(series)):\n",
    "        window = [appended_series[i+window_size//2]] + appended_series[i:i+window_size//2] + appended_series[i+window_size//2+1:i+window_size]\n",
    "        assert len(window) == window_size, \"Not equal window size\"\n",
    "        smoothed_series.append(Counter(window).most_common(1)[0][0])\n",
    "        \n",
    "    return smoothed_series"
   ]
  },
  {
   "cell_type": "code",
   "execution_count": 40,
   "id": "bigger-channels",
   "metadata": {},
   "outputs": [
    {
     "data": {
      "application/vnd.jupyter.widget-view+json": {
       "model_id": "3eba745c11774f939a675340452514fb",
       "version_major": 2,
       "version_minor": 0
      },
      "text/plain": [
       "  0%|          | 0/44640 [00:00<?, ?it/s]"
      ]
     },
     "metadata": {},
     "output_type": "display_data"
    }
   ],
   "source": [
    "# Smooth stop/move label\n",
    "gps[\"stop\"] = smooth(gps[\"stop\"])\n",
    "gps[\"cluster_label\"] = smooth(gps[\"cluster_label\"])\n",
    "gps[\"stop_label\"] = gps.progress_apply(lambda x: x['cluster_label'] if x['stop'] else \"\", axis=1)"
   ]
  },
  {
   "cell_type": "markdown",
   "id": "3cc4b79a-7563-4cd3-9913-58835f656372",
   "metadata": {},
   "source": [
    "## Change to ImageID index and recalculate movement"
   ]
  },
  {
   "cell_type": "code",
   "execution_count": 41,
   "id": "51e88020-2e7e-407a-a75e-026dd11c11de",
   "metadata": {},
   "outputs": [],
   "source": [
    "# Split images into different rows:\n",
    "gps[\"ImageID\"]=gps[\"ImageID\"].str.split(\",\")\n",
    "gps = gps.explode(\"ImageID\").reset_index()\n",
    "gps[\"ImageID\"] = gps[\"ImageID\"].str.replace(r'(\\[|\\]|\\'|\\s)', '', regex=True)\n",
    "gps.loc[gps['ImageID'] == \"\", 'ImageID'] = np.nan\n",
    "gps = gps.loc[gps['ImageID'].notna()]\n",
    "\n",
    "# Merge into one file with the visual concepts\n",
    "visual = pd.read_csv(r'../../original_data/lsc22_visual_concepts.csv', sep=',', decimal='.')\n",
    "# start from here\n",
    "both = pd.merge(\n",
    "    visual,\n",
    "    gps,\n",
    "    how=\"right\",\n",
    "    on='ImageID',\n",
    ")\n",
    "both = both.drop(columns=['Unnamed: 0_x', 'index'])"
   ]
  },
  {
   "cell_type": "code",
   "execution_count": 42,
   "id": "951de1a0-ef71-459d-bca6-46cc4f4fabea",
   "metadata": {
    "tags": []
   },
   "outputs": [
    {
     "data": {
      "application/vnd.jupyter.widget-view+json": {
       "model_id": "1269a8ac3e494df5b079ca436a8264bf",
       "version_major": 2,
       "version_minor": 0
      },
      "text/plain": [
       "  0%|          | 0/42640 [00:00<?, ?it/s]"
      ]
     },
     "metadata": {},
     "output_type": "display_data"
    }
   ],
   "source": [
    "from vision_utils import *\n",
    "\n",
    "moves = {\"I am sitting on an airplane\": \"Airplane\",\n",
    "         \"I am in a car\": \"Car\",\n",
    "         \"I am in an airport\": \"Inside\",\n",
    "         \"I am walking outside or on the street\": \"Walking Outside\",\n",
    "         \"I am on public transport\": \"Public Transport\",\n",
    "         \"I am inside a building or a house\": \"Inside\"}\n",
    "\n",
    "# Assign movement\n",
    "both[\"movement\"] = [None for i in range(len(both))]\n",
    "both[\"movement_prob\"] = [0 for i in range(len(both))]\n",
    "for i, row in tqdm(both.iterrows(), total=len(both)):\n",
    "    image_features = get_stop_embeddings([row[\"ImageID\"]]) \n",
    "    try:\n",
    "        image_features = torch.tensor(image_features).cuda().float()\n",
    "    except RuntimeError as e:\n",
    "        continue\n",
    "    movement, prob = movement_mode(list(moves.keys()), image_features)\n",
    "    both.loc[i, \"movement\"] = moves[movement]\n",
    "    both.loc[i, \"movement_prob\"] = prob"
   ]
  },
  {
   "cell_type": "code",
   "execution_count": 43,
   "id": "c0e68b9b-fe05-4aa9-ae2c-8c8ee9cbe1aa",
   "metadata": {},
   "outputs": [],
   "source": [
    "stops"
   ]
  },
  {
   "cell_type": "code",
   "execution_count": 54,
   "id": "61177117-237b-47ad-bdd9-717e511d7cc0",
   "metadata": {
    "tags": []
   },
   "outputs": [],
   "source": [
    "reset()"
   ]
  },
  {
   "cell_type": "code",
   "execution_count": 55,
   "id": "ea772361-b1fe-4072-abc7-abe0e61becaf",
   "metadata": {},
   "outputs": [],
   "source": [
    "back_up()\n",
    "theta = 0\n",
    "both[\"movement\"] = smooth(both[\"movement\"], 3)\n",
    "both[\"inside\"] = both[\"movement\"] == \"Inside\"\n",
    "# both.loc[(both[\"inside\"] == False) & (both[\"movement_prob\"] > theta), 'stop'] = False\n",
    "# both.loc[(both[\"inside\"] == False) & (both[\"movement_prob\"] > theta), 'stop_label'] = \"\""
   ]
  },
  {
   "cell_type": "markdown",
   "id": "helpful-cutting",
   "metadata": {},
   "source": [
    "## Remove short stops"
   ]
  },
  {
   "cell_type": "code",
   "execution_count": 56,
   "id": "specified-documentation",
   "metadata": {
    "tags": []
   },
   "outputs": [],
   "source": [
    "stops = both.groupby(((both['stop_label'].shift() != both['stop_label']) | (both['stop'].shift() != both['stop'])).cumsum()).agg(\n",
    "                                                          inside=('inside', 'first'),\n",
    "                                                          lat=('latitude', 'mean'),\n",
    "                                                          lon=('longitude', 'mean'),\n",
    "                                                          all_lon=('longitude', list_all),\n",
    "                                                          all_lat=('latitude', list_all),\n",
    "                                                          images=('ImageID', list_all),\n",
    "                                                          stop=('stop', 'first'),\n",
    "                                                          stop_label2=('stop_label', most_common),\n",
    "                                                          movement=('movement', most_common),\n",
    "                                                          duration=('ImageID', image_time_duration))\n",
    "stops = stops.reset_index()\n",
    "# stops = stops.drop(columns=['stop_label'])\n",
    "stops = stops.rename(columns={'stop_label2': 'stop_label'})"
   ]
  },
  {
   "cell_type": "code",
   "execution_count": 57,
   "id": "patient-courage",
   "metadata": {},
   "outputs": [
    {
     "data": {
      "application/vnd.jupyter.widget-view+json": {
       "model_id": "eb580e8f90584949bbad56fb37e7e884",
       "version_major": 2,
       "version_minor": 0
      },
      "text/plain": [
       "TabSection(children=(BrowserCheck(), HBox(children=(Tab(closable=False, title='plot', _dom_classes=('bamboolib…"
      ]
     },
     "metadata": {},
     "output_type": "display_data"
    }
   ],
   "source": [
    "stops = stops[['stop', 'movement'] + ['lat', 'lon', 'stop_label', 'all_lat', 'all_lon', 'images', 'duration']]\n",
    "stops.loc[stops['duration'] < 3, 'stop'] = False\n",
    "bam.plot(stops, 'stop')"
   ]
  },
  {
   "cell_type": "markdown",
   "id": "6f468966-9e1d-4f82-ae8a-6c60cc3adbec",
   "metadata": {},
   "source": [
    "## Adjusting boundaries"
   ]
  },
  {
   "cell_type": "code",
   "execution_count": 58,
   "id": "6d2803a9-f133-4e89-a778-e7e9293fd313",
   "metadata": {},
   "outputs": [
    {
     "data": {
      "application/vnd.jupyter.widget-view+json": {
       "model_id": "f612e25403eb4147a3f7f694790dd999",
       "version_major": 2,
       "version_minor": 0
      },
      "text/plain": [
       "  0%|          | 0/553 [00:00<?, ?it/s]"
      ]
     },
     "metadata": {},
     "output_type": "display_data"
    }
   ],
   "source": [
    "all_image_ids = list(both[\"ImageID\"])\n",
    "stop_values = [False] * len(both)\n",
    "cluster_label_values = [\"\"] * len(both)\n",
    "boundaries = [None] * len(both)\n",
    "\n",
    "for i, row in tqdm(stops.iterrows(), total=len(stops)):\n",
    "    if row[\"stop\"]:\n",
    "        start = row[\"images\"][0]\n",
    "        boundaries[all_image_ids.index(start)] = \"start\"\n",
    "        end = row[\"images\"][-1]\n",
    "        boundaries[all_image_ids.index(end)] = \"end\"\n",
    "    \n",
    "    for image in row[\"images\"]:\n",
    "        image_id = all_image_ids.index(image)\n",
    "        stop_values[image_id] = row[\"stop\"]\n",
    "        if row[\"stop\"]:\n",
    "            cluster_label_values[image_id] = row[\"stop_label\"]\n",
    "        \n",
    "both = both.assign(stop=stop_values,\n",
    "                   stop_label=cluster_label_values,\n",
    "                   boundary=boundaries)"
   ]
  },
  {
   "cell_type": "code",
   "execution_count": 59,
   "id": "c4bae174-7dcb-4f76-b9c8-8c3ec857b079",
   "metadata": {},
   "outputs": [
    {
     "data": {
      "application/vnd.jupyter.widget-view+json": {
       "model_id": "91610c75b040401f8d1b1bdadeb8a9ad",
       "version_major": 2,
       "version_minor": 0
      },
      "text/plain": [
       "  0%|          | 0/42639 [00:00<?, ?it/s]"
      ]
     },
     "metadata": {},
     "output_type": "display_data"
    },
    {
     "data": {
      "application/vnd.jupyter.widget-view+json": {
       "model_id": "1f88386ae44641feae7ddf0f7b097b2a",
       "version_major": 2,
       "version_minor": 0
      },
      "text/plain": [
       "  0%|          | 0/42639 [00:00<?, ?it/s]"
      ]
     },
     "metadata": {},
     "output_type": "display_data"
    }
   ],
   "source": [
    "stop_values = list(both[\"stop\"])\n",
    "cluster_label_values = list(both[\"stop_label\"])\n",
    "movements = list(both[\"movement\"])\n",
    "boundaries = list(both[\"boundary\"])\n",
    "\n",
    "# Forward\n",
    "for i in tqdm(range(1, len(both))):\n",
    "    if boundaries[i] == \"end\": #Considering a stop ending boundaries\n",
    "        # Checking if the cluster should end later (still inside)\n",
    "        j = i + 1\n",
    "        while j < len(both) and movements[j] == \"Inside\" and cluster_label_values[j] == \"\": \n",
    "            stop_values[j] = True\n",
    "            cluster_label_values[j] = cluster_label_values[i]\n",
    "            j +=1\n",
    "        \n",
    "        # Checking if the cluster should end earlier (not inside anymore)\n",
    "        j = i\n",
    "        while j > 0 and movements[j] != \"Inside\" and cluster_label_values[j] == cluster_label_values[i]: \n",
    "            stop_values[j] = False\n",
    "            cluster_label_values[j] = \"\"\n",
    "            j -= 1\n",
    "            \n",
    "            \n",
    "# Backward\n",
    "for i in tqdm(range(1, len(both))):\n",
    "    if boundaries[-i] == \"start\": #Considering a stop ending boundaries\n",
    "        # Checking if the cluster should start sooner (going inside already)\n",
    "        j = i + 1\n",
    "        while j < len(both) and movements[-j] == \"Inside\" and cluster_label_values[-j] == \"\": \n",
    "            stop_values[-j] = True\n",
    "            cluster_label_values[-j] = cluster_label_values[-i]\n",
    "            j += 1\n",
    "        \n",
    "        # Checking if the cluster should start later (not inside yet)\n",
    "        j = i\n",
    "        while j > 0 and movements[-j] != \"Inside\" and cluster_label_values[j] == cluster_label_values[i]: \n",
    "            stop_values[j] = False\n",
    "            cluster_label_values[j] = \"\"\n",
    "            j -= 1\n",
    "            \n",
    "both = both.assign(stop=stop_values,\n",
    "                 stop_label=cluster_label_values)"
   ]
  },
  {
   "cell_type": "code",
   "execution_count": 60,
   "id": "9326099f-0e99-40d3-8210-2d85b7bb70bf",
   "metadata": {},
   "outputs": [],
   "source": [
    "# # Smooth stop/move label\n",
    "# both[\"stop\"] = smooth(both[\"stop\"])\n",
    "# both[\"stop_label\"] = smooth(both[\"stop_label\"])\n",
    "both.loc[(both[\"stop_label\"] == \"\") & (both[\"inside\"] == True), \"stop_label\"] = \"INSIDE\""
   ]
  },
  {
   "cell_type": "markdown",
   "id": "63e63904-57d0-469d-921c-c0edc15b4479",
   "metadata": {
    "tags": []
   },
   "source": [
    "# Final stop/move"
   ]
  },
  {
   "cell_type": "code",
   "execution_count": 61,
   "id": "8370e60e-43ce-4dde-87b0-8049f44e15cc",
   "metadata": {
    "tags": []
   },
   "outputs": [],
   "source": [
    "stops = both.groupby(((both['stop_label'].shift() != both['stop_label'])).cumsum()).agg(\n",
    "                                                          inside=('inside', 'first'),\n",
    "                                                          lat=('latitude', 'mean'),\n",
    "                                                          lon=('longitude', 'mean'),\n",
    "                                                          all_lon=('longitude', list_all),\n",
    "                                                          all_lat=('latitude', list_all),\n",
    "                                                          images=('ImageID', list_all),\n",
    "                                                          stop=('stop', 'first'),\n",
    "                                                          stop_label2=('stop_label', most_common),\n",
    "                                                          movement=('movement', most_common),\n",
    "                                                          duration=('ImageID', image_time_duration))\n",
    "stops = stops.reset_index()\n",
    "stops = stops.drop(columns=['stop_label'])\n",
    "stops = stops.rename(columns={'stop_label2': 'stop_label'})"
   ]
  },
  {
   "cell_type": "code",
   "execution_count": 64,
   "id": "a075f0ec-6402-4646-9e7f-2af5175847af",
   "metadata": {},
   "outputs": [
    {
     "data": {
      "application/vnd.jupyter.widget-view+json": {
       "model_id": "4e25b2ff862f43508788add7b9e7ffb3",
       "version_major": 2,
       "version_minor": 0
      },
      "text/plain": [
       "  0%|          | 0/627 [00:00<?, ?it/s]"
      ]
     },
     "metadata": {},
     "output_type": "display_data"
    }
   ],
   "source": [
    "def calculate_distance(all_lat, all_lon, lat, lon):\n",
    "    dists = [distance(lt, ln, lat, lon) for (lt, ln) in zip(all_lat, all_lon)]\n",
    "    dists = [d for d in dists if d]\n",
    "    if dists:\n",
    "        return max(dists)\n",
    "    return 50\n",
    "    \n",
    "stops[\"max_radius\"] = stops.progress_apply(lambda x: calculate_distance(x['all_lat'], \n",
    "                                                               x['all_lon'],\n",
    "                                                               x['lat'],\n",
    "                                                               x['lon']), axis=1)"
   ]
  },
  {
   "cell_type": "code",
   "execution_count": 65,
   "id": "b3adceee-1ffe-4fa2-9604-fb4d7751e19f",
   "metadata": {},
   "outputs": [
    {
     "data": {
      "application/vnd.jupyter.widget-view+json": {
       "model_id": "8e9388a822124590a54ea40e5998f58c",
       "version_major": 2,
       "version_minor": 0
      },
      "text/plain": [
       "TabSection(children=(BrowserCheck(), HBox(children=(Tab(closable=False, title='plot', _dom_classes=('bamboolib…"
      ]
     },
     "metadata": {},
     "output_type": "display_data"
    }
   ],
   "source": [
    "stops = stops[['inside', 'stop', 'movement', 'stop_label'] + ['lat', 'lon', 'all_lat', 'all_lon','max_radius', 'images', 'duration']]\n",
    "stops = stops.reset_index()\n",
    "bam.plot(stops, 'stop')"
   ]
  },
  {
   "cell_type": "markdown",
   "id": "b939384b-9749-445d-9efa-93e5406d95b5",
   "metadata": {},
   "source": [
    "# Verification"
   ]
  },
  {
   "cell_type": "code",
   "execution_count": 68,
   "id": "03ff32c2-1f6c-4b73-b7e3-752813c37b55",
   "metadata": {},
   "outputs": [
    {
     "data": {
      "application/vnd.jupyter.widget-view+json": {
       "model_id": "faa90285250e41cebc4ee39e12a4b1df",
       "version_major": 2,
       "version_minor": 0
      },
      "text/plain": [
       "  0%|          | 0/627 [00:00<?, ?it/s]"
      ]
     },
     "metadata": {},
     "output_type": "display_data"
    }
   ],
   "source": [
    "theta = 0.9\n",
    "def get_checkin(row, logging=False):\n",
    "    stop = stops.loc[row, \"stop\"]\n",
    "    lat = stops.loc[row, \"lat\"]\n",
    "    lon = stops.loc[row, \"lon\"]\n",
    "    max_radius = stops.loc[row, \"max_radius\"]\n",
    "    images = stops.loc[row, \"images\"]\n",
    "    image_features = None\n",
    "    if isinstance(images, str):\n",
    "        images = json.loads(images.replace(\"'\", '\"'))\n",
    "    image_features = get_stop_embeddings(images)\n",
    "\n",
    "    # Get transport move\n",
    "    if not image_features is None:\n",
    "        image_features = torch.tensor(image_features).cuda().float()\n",
    "        movement, movement_prob = movement_mode(list(moves.keys()), image_features)\n",
    "        movement = moves[movement]\n",
    "        if logging:\n",
    "            print(\"Movement:\", movement, movement_prob)\n",
    "        if movement_prob > theta and movement in [\"Inside\", \"Airport\"]:\n",
    "            stop = True\n",
    "        elif movement_prob > theta:\n",
    "            stop = False\n",
    "        elif max_radius < 100 and movement in [\"Inside\", \"Airport\"]: # Low probability but small distance\n",
    "            stop = True\n",
    "\n",
    "        stops.loc[row, \"stop\"] = stop\n",
    "        if not stop:\n",
    "            stops.loc[row, \"movement\"] = movement\n",
    "            stops.loc[row, \"movement_prob\"] = movement_prob\n",
    "\n",
    "num = len(stops)\n",
    "# num = 20\n",
    "for i in tqdm(range(num)):\n",
    "    get_checkin(i)"
   ]
  },
  {
   "cell_type": "code",
   "execution_count": 69,
   "id": "77119c08-5124-46e1-a75b-292d1da56492",
   "metadata": {},
   "outputs": [
    {
     "data": {
      "application/vnd.jupyter.widget-view+json": {
       "model_id": "ad310e2acfca442bb3554e278f9c299f",
       "version_major": 2,
       "version_minor": 0
      },
      "text/plain": [
       "TabSection(children=(BrowserCheck(), HBox(children=(Tab(closable=False, title='plot', _dom_classes=('bamboolib…"
      ]
     },
     "metadata": {},
     "output_type": "display_data"
    }
   ],
   "source": [
    "stops = stops[['inside', 'stop', 'movement', 'stop_label'] + ['lat', 'lon', 'max_radius', 'all_lat', 'all_lon', 'images', 'duration']]\n",
    "stops = stops.reset_index()\n",
    "bam.plot(stops, 'stop')"
   ]
  },
  {
   "cell_type": "markdown",
   "id": "c3e221b6-7f7e-4142-a039-5e56da7764cf",
   "metadata": {},
   "source": [
    "# Save"
   ]
  },
  {
   "cell_type": "code",
   "execution_count": 70,
   "id": "collect-principal",
   "metadata": {},
   "outputs": [],
   "source": [
    "stops.to_csv(\"files/test/stops.csv\")\n",
    "both.to_csv(\"files/test/both.csv\")"
   ]
  },
  {
   "cell_type": "code",
   "execution_count": 29,
   "id": "783bf686-8f9a-4426-984b-82589894bd8b",
   "metadata": {},
   "outputs": [
    {
     "data": {
      "application/vnd.jupyter.widget-view+json": {
       "model_id": "1e5acffea6db482bbacc474901e342dc"
      },
      "text/plain": [
       "                     ImageID      minute_id movement   stop stop_label  \\\n",
       "445  20190101_150016_000.jpg  20190101_1500   Inside   True       01_5   \n",
       "446  20190101_150048_000.jpg  20190101_1500   Inside   True       01_5   \n",
       "447  20190101_150120_000.jpg  20190101_1501   Inside   True       01_5   \n",
       "448  20190101_150152_000.jpg  20190101_1501   Inside   True       01_5   \n",
       "449  20190101_150224_000.jpg  20190101_1502   Inside   True       01_5   \n",
       "..                       ...            ...      ...    ...        ...   \n",
       "551  20190101_155727_000.jpg  20190101_1557      Car  False              \n",
       "552  20190101_155759_000.jpg  20190101_1557      Car  False              \n",
       "553  20190101_155831_000.jpg  20190101_1558      Car  False              \n",
       "554  20190101_155903_000.jpg  20190101_1559      Car  False              \n",
       "555  20190101_155935_000.jpg  20190101_1559      Car  False              \n",
       "\n",
       "    ori_movement  ori_stop ori_stop_label  inside boundary  \n",
       "445       Inside      True           01_5    True     None  \n",
       "446       Inside      True           01_5    True     None  \n",
       "447       Inside      True           01_5    True     None  \n",
       "448       Inside      True           01_5    True     None  \n",
       "449       Inside      True           01_5    True     None  \n",
       "..           ...       ...            ...     ...      ...  \n",
       "551          Car     False                  False     None  \n",
       "552          Car     False                  False     None  \n",
       "553          Car     False                  False     None  \n",
       "554          Car     False                  False     None  \n",
       "555          Car     False                  False     None  \n",
       "\n",
       "[111 rows x 10 columns]"
      ]
     },
     "metadata": {},
     "output_type": "display_data"
    }
   ],
   "source": [
    "test = both.loc[both['minute_id'].str.startswith('20190101_15', na=False)]\n",
    "test = test[['ImageID','minute_id', 'movement', 'stop', 'stop_label', 'ori_movement', 'ori_stop', 'ori_stop_label', 'inside', 'boundary']]\n",
    "test.loc[(test[\"stop_label\"] == \"\") & (test[\"inside\"] == True), \"stop_label\"] = \"INSIDE\"\n",
    "test"
   ]
  }
 ],
 "metadata": {
  "kernelspec": {
   "display_name": "Python 3 (ipykernel)",
   "language": "python",
   "name": "python3"
  },
  "language_info": {
   "codemirror_mode": {
    "name": "ipython",
    "version": 3
   },
   "file_extension": ".py",
   "mimetype": "text/x-python",
   "name": "python",
   "nbconvert_exporter": "python",
   "pygments_lexer": "ipython3",
   "version": "3.9.12"
  },
  "toc": {
   "base_numbering": 1,
   "nav_menu": {},
   "number_sections": true,
   "sideBar": true,
   "skip_h1_title": false,
   "title_cell": "Table of Contents",
   "title_sidebar": "Contents",
   "toc_cell": false,
   "toc_position": {},
   "toc_section_display": true,
   "toc_window_display": true
  },
  "toc-autonumbering": true,
  "toc-showtags": false
 },
 "nbformat": 4,
 "nbformat_minor": 5
}
